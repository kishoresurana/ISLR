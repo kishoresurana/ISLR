{
 "cells": [
  {
   "cell_type": "markdown",
   "metadata": {},
   "source": [
    "<h2>Principal Components - Introduction</h2>"
   ]
  },
  {
   "cell_type": "code",
   "execution_count": 57,
   "metadata": {},
   "outputs": [],
   "source": [
    "library(ISLR)"
   ]
  },
  {
   "cell_type": "code",
   "execution_count": 58,
   "metadata": {},
   "outputs": [
    {
     "data": {
      "text/html": [
       "<ol class=list-inline>\n",
       "\t<li>'Alabama'</li>\n",
       "\t<li>'Alaska'</li>\n",
       "\t<li>'Arizona'</li>\n",
       "\t<li>'Arkansas'</li>\n",
       "\t<li>'California'</li>\n",
       "\t<li>'Colorado'</li>\n",
       "\t<li>'Connecticut'</li>\n",
       "\t<li>'Delaware'</li>\n",
       "\t<li>'Florida'</li>\n",
       "\t<li>'Georgia'</li>\n",
       "\t<li>'Hawaii'</li>\n",
       "\t<li>'Idaho'</li>\n",
       "\t<li>'Illinois'</li>\n",
       "\t<li>'Indiana'</li>\n",
       "\t<li>'Iowa'</li>\n",
       "\t<li>'Kansas'</li>\n",
       "\t<li>'Kentucky'</li>\n",
       "\t<li>'Louisiana'</li>\n",
       "\t<li>'Maine'</li>\n",
       "\t<li>'Maryland'</li>\n",
       "\t<li>'Massachusetts'</li>\n",
       "\t<li>'Michigan'</li>\n",
       "\t<li>'Minnesota'</li>\n",
       "\t<li>'Mississippi'</li>\n",
       "\t<li>'Missouri'</li>\n",
       "\t<li>'Montana'</li>\n",
       "\t<li>'Nebraska'</li>\n",
       "\t<li>'Nevada'</li>\n",
       "\t<li>'New Hampshire'</li>\n",
       "\t<li>'New Jersey'</li>\n",
       "\t<li>'New Mexico'</li>\n",
       "\t<li>'New York'</li>\n",
       "\t<li>'North Carolina'</li>\n",
       "\t<li>'North Dakota'</li>\n",
       "\t<li>'Ohio'</li>\n",
       "\t<li>'Oklahoma'</li>\n",
       "\t<li>'Oregon'</li>\n",
       "\t<li>'Pennsylvania'</li>\n",
       "\t<li>'Rhode Island'</li>\n",
       "\t<li>'South Carolina'</li>\n",
       "\t<li>'South Dakota'</li>\n",
       "\t<li>'Tennessee'</li>\n",
       "\t<li>'Texas'</li>\n",
       "\t<li>'Utah'</li>\n",
       "\t<li>'Vermont'</li>\n",
       "\t<li>'Virginia'</li>\n",
       "\t<li>'Washington'</li>\n",
       "\t<li>'West Virginia'</li>\n",
       "\t<li>'Wisconsin'</li>\n",
       "\t<li>'Wyoming'</li>\n",
       "</ol>\n"
      ],
      "text/latex": [
       "\\begin{enumerate*}\n",
       "\\item 'Alabama'\n",
       "\\item 'Alaska'\n",
       "\\item 'Arizona'\n",
       "\\item 'Arkansas'\n",
       "\\item 'California'\n",
       "\\item 'Colorado'\n",
       "\\item 'Connecticut'\n",
       "\\item 'Delaware'\n",
       "\\item 'Florida'\n",
       "\\item 'Georgia'\n",
       "\\item 'Hawaii'\n",
       "\\item 'Idaho'\n",
       "\\item 'Illinois'\n",
       "\\item 'Indiana'\n",
       "\\item 'Iowa'\n",
       "\\item 'Kansas'\n",
       "\\item 'Kentucky'\n",
       "\\item 'Louisiana'\n",
       "\\item 'Maine'\n",
       "\\item 'Maryland'\n",
       "\\item 'Massachusetts'\n",
       "\\item 'Michigan'\n",
       "\\item 'Minnesota'\n",
       "\\item 'Mississippi'\n",
       "\\item 'Missouri'\n",
       "\\item 'Montana'\n",
       "\\item 'Nebraska'\n",
       "\\item 'Nevada'\n",
       "\\item 'New Hampshire'\n",
       "\\item 'New Jersey'\n",
       "\\item 'New Mexico'\n",
       "\\item 'New York'\n",
       "\\item 'North Carolina'\n",
       "\\item 'North Dakota'\n",
       "\\item 'Ohio'\n",
       "\\item 'Oklahoma'\n",
       "\\item 'Oregon'\n",
       "\\item 'Pennsylvania'\n",
       "\\item 'Rhode Island'\n",
       "\\item 'South Carolina'\n",
       "\\item 'South Dakota'\n",
       "\\item 'Tennessee'\n",
       "\\item 'Texas'\n",
       "\\item 'Utah'\n",
       "\\item 'Vermont'\n",
       "\\item 'Virginia'\n",
       "\\item 'Washington'\n",
       "\\item 'West Virginia'\n",
       "\\item 'Wisconsin'\n",
       "\\item 'Wyoming'\n",
       "\\end{enumerate*}\n"
      ],
      "text/markdown": [
       "1. 'Alabama'\n",
       "2. 'Alaska'\n",
       "3. 'Arizona'\n",
       "4. 'Arkansas'\n",
       "5. 'California'\n",
       "6. 'Colorado'\n",
       "7. 'Connecticut'\n",
       "8. 'Delaware'\n",
       "9. 'Florida'\n",
       "10. 'Georgia'\n",
       "11. 'Hawaii'\n",
       "12. 'Idaho'\n",
       "13. 'Illinois'\n",
       "14. 'Indiana'\n",
       "15. 'Iowa'\n",
       "16. 'Kansas'\n",
       "17. 'Kentucky'\n",
       "18. 'Louisiana'\n",
       "19. 'Maine'\n",
       "20. 'Maryland'\n",
       "21. 'Massachusetts'\n",
       "22. 'Michigan'\n",
       "23. 'Minnesota'\n",
       "24. 'Mississippi'\n",
       "25. 'Missouri'\n",
       "26. 'Montana'\n",
       "27. 'Nebraska'\n",
       "28. 'Nevada'\n",
       "29. 'New Hampshire'\n",
       "30. 'New Jersey'\n",
       "31. 'New Mexico'\n",
       "32. 'New York'\n",
       "33. 'North Carolina'\n",
       "34. 'North Dakota'\n",
       "35. 'Ohio'\n",
       "36. 'Oklahoma'\n",
       "37. 'Oregon'\n",
       "38. 'Pennsylvania'\n",
       "39. 'Rhode Island'\n",
       "40. 'South Carolina'\n",
       "41. 'South Dakota'\n",
       "42. 'Tennessee'\n",
       "43. 'Texas'\n",
       "44. 'Utah'\n",
       "45. 'Vermont'\n",
       "46. 'Virginia'\n",
       "47. 'Washington'\n",
       "48. 'West Virginia'\n",
       "49. 'Wisconsin'\n",
       "50. 'Wyoming'\n",
       "\n",
       "\n"
      ],
      "text/plain": [
       " [1] \"Alabama\"        \"Alaska\"         \"Arizona\"        \"Arkansas\"      \n",
       " [5] \"California\"     \"Colorado\"       \"Connecticut\"    \"Delaware\"      \n",
       " [9] \"Florida\"        \"Georgia\"        \"Hawaii\"         \"Idaho\"         \n",
       "[13] \"Illinois\"       \"Indiana\"        \"Iowa\"           \"Kansas\"        \n",
       "[17] \"Kentucky\"       \"Louisiana\"      \"Maine\"          \"Maryland\"      \n",
       "[21] \"Massachusetts\"  \"Michigan\"       \"Minnesota\"      \"Mississippi\"   \n",
       "[25] \"Missouri\"       \"Montana\"        \"Nebraska\"       \"Nevada\"        \n",
       "[29] \"New Hampshire\"  \"New Jersey\"     \"New Mexico\"     \"New York\"      \n",
       "[33] \"North Carolina\" \"North Dakota\"   \"Ohio\"           \"Oklahoma\"      \n",
       "[37] \"Oregon\"         \"Pennsylvania\"   \"Rhode Island\"   \"South Carolina\"\n",
       "[41] \"South Dakota\"   \"Tennessee\"      \"Texas\"          \"Utah\"          \n",
       "[45] \"Vermont\"        \"Virginia\"       \"Washington\"     \"West Virginia\" \n",
       "[49] \"Wisconsin\"      \"Wyoming\"       "
      ]
     },
     "metadata": {},
     "output_type": "display_data"
    }
   ],
   "source": [
    "states = row.names(USArrests)\n",
    "states"
   ]
  },
  {
   "cell_type": "code",
   "execution_count": 59,
   "metadata": {},
   "outputs": [
    {
     "data": {
      "text/html": [
       "<ol class=list-inline>\n",
       "\t<li>'Murder'</li>\n",
       "\t<li>'Assault'</li>\n",
       "\t<li>'UrbanPop'</li>\n",
       "\t<li>'Rape'</li>\n",
       "</ol>\n"
      ],
      "text/latex": [
       "\\begin{enumerate*}\n",
       "\\item 'Murder'\n",
       "\\item 'Assault'\n",
       "\\item 'UrbanPop'\n",
       "\\item 'Rape'\n",
       "\\end{enumerate*}\n"
      ],
      "text/markdown": [
       "1. 'Murder'\n",
       "2. 'Assault'\n",
       "3. 'UrbanPop'\n",
       "4. 'Rape'\n",
       "\n",
       "\n"
      ],
      "text/plain": [
       "[1] \"Murder\"   \"Assault\"  \"UrbanPop\" \"Rape\"    "
      ]
     },
     "metadata": {},
     "output_type": "display_data"
    }
   ],
   "source": [
    "names(USArrests)"
   ]
  },
  {
   "cell_type": "markdown",
   "metadata": {},
   "source": [
    "<h6> apply function </h6> - can run a function either columnwise (parameter - 2) or rowwise (parameter - 1)"
   ]
  },
  {
   "cell_type": "code",
   "execution_count": 60,
   "metadata": {},
   "outputs": [
    {
     "data": {
      "text/html": [
       "<dl class=dl-horizontal>\n",
       "\t<dt>Murder</dt>\n",
       "\t\t<dd>7.788</dd>\n",
       "\t<dt>Assault</dt>\n",
       "\t\t<dd>170.76</dd>\n",
       "\t<dt>UrbanPop</dt>\n",
       "\t\t<dd>65.54</dd>\n",
       "\t<dt>Rape</dt>\n",
       "\t\t<dd>21.232</dd>\n",
       "</dl>\n"
      ],
      "text/latex": [
       "\\begin{description*}\n",
       "\\item[Murder] 7.788\n",
       "\\item[Assault] 170.76\n",
       "\\item[UrbanPop] 65.54\n",
       "\\item[Rape] 21.232\n",
       "\\end{description*}\n"
      ],
      "text/markdown": [
       "Murder\n",
       ":   7.788Assault\n",
       ":   170.76UrbanPop\n",
       ":   65.54Rape\n",
       ":   21.232\n",
       "\n"
      ],
      "text/plain": [
       "  Murder  Assault UrbanPop     Rape \n",
       "   7.788  170.760   65.540   21.232 "
      ]
     },
     "metadata": {},
     "output_type": "display_data"
    }
   ],
   "source": [
    "apply(USArrests, 2, mean)"
   ]
  },
  {
   "cell_type": "code",
   "execution_count": 61,
   "metadata": {},
   "outputs": [
    {
     "data": {
      "text/html": [
       "<dl class=dl-horizontal>\n",
       "\t<dt>Murder</dt>\n",
       "\t\t<dd>18.9704653061224</dd>\n",
       "\t<dt>Assault</dt>\n",
       "\t\t<dd>6945.16571428571</dd>\n",
       "\t<dt>UrbanPop</dt>\n",
       "\t\t<dd>209.518775510204</dd>\n",
       "\t<dt>Rape</dt>\n",
       "\t\t<dd>87.7291591836735</dd>\n",
       "</dl>\n"
      ],
      "text/latex": [
       "\\begin{description*}\n",
       "\\item[Murder] 18.9704653061224\n",
       "\\item[Assault] 6945.16571428571\n",
       "\\item[UrbanPop] 209.518775510204\n",
       "\\item[Rape] 87.7291591836735\n",
       "\\end{description*}\n"
      ],
      "text/markdown": [
       "Murder\n",
       ":   18.9704653061224Assault\n",
       ":   6945.16571428571UrbanPop\n",
       ":   209.518775510204Rape\n",
       ":   87.7291591836735\n",
       "\n"
      ],
      "text/plain": [
       "    Murder    Assault   UrbanPop       Rape \n",
       "  18.97047 6945.16571  209.51878   87.72916 "
      ]
     },
     "metadata": {},
     "output_type": "display_data"
    }
   ],
   "source": [
    "apply(USArrests, 2, var)"
   ]
  },
  {
   "cell_type": "markdown",
   "metadata": {},
   "source": [
    "** prcomp function ** - calculates principal components\n",
    "\n",
    "return Value:\n",
    "* **x** - the the principal component matrix computed from the input matrix and the loadings in rotation variable \n",
    "* center - the mean\n",
    "* scale -  the SD of the input features\n",
    "* SD - the SD of the principal components\n",
    "* rotation - the principal component loadings (the PHI values to transform a list of input variables to a new principal component variable)"
   ]
  },
  {
   "cell_type": "code",
   "execution_count": 62,
   "metadata": {},
   "outputs": [],
   "source": [
    "pr.out = prcomp(USArrests, scale=TRUE)"
   ]
  },
  {
   "cell_type": "code",
   "execution_count": 63,
   "metadata": {},
   "outputs": [
    {
     "data": {
      "text/html": [
       "<ol class=list-inline>\n",
       "\t<li>'sdev'</li>\n",
       "\t<li>'rotation'</li>\n",
       "\t<li>'center'</li>\n",
       "\t<li>'scale'</li>\n",
       "\t<li>'x'</li>\n",
       "</ol>\n"
      ],
      "text/latex": [
       "\\begin{enumerate*}\n",
       "\\item 'sdev'\n",
       "\\item 'rotation'\n",
       "\\item 'center'\n",
       "\\item 'scale'\n",
       "\\item 'x'\n",
       "\\end{enumerate*}\n"
      ],
      "text/markdown": [
       "1. 'sdev'\n",
       "2. 'rotation'\n",
       "3. 'center'\n",
       "4. 'scale'\n",
       "5. 'x'\n",
       "\n",
       "\n"
      ],
      "text/plain": [
       "[1] \"sdev\"     \"rotation\" \"center\"   \"scale\"    \"x\"       "
      ]
     },
     "metadata": {},
     "output_type": "display_data"
    }
   ],
   "source": [
    "names(pr.out)"
   ]
  },
  {
   "cell_type": "markdown",
   "metadata": {},
   "source": [
    "We find that there are 4 principal components returned by the prcomp function. <br/> min(n-1, p) principal components are possible, where n is the number of records and p is the number of features"
   ]
  },
  {
   "cell_type": "code",
   "execution_count": 64,
   "metadata": {},
   "outputs": [
    {
     "data": {
      "text/html": [
       "<table>\n",
       "<thead><tr><th></th><th scope=col>PC1</th><th scope=col>PC2</th><th scope=col>PC3</th><th scope=col>PC4</th></tr></thead>\n",
       "<tbody>\n",
       "\t<tr><th scope=row>Murder</th><td>-0.5358995 </td><td> 0.4181809 </td><td>-0.3412327 </td><td> 0.64922780</td></tr>\n",
       "\t<tr><th scope=row>Assault</th><td>-0.5831836 </td><td> 0.1879856 </td><td>-0.2681484 </td><td>-0.74340748</td></tr>\n",
       "\t<tr><th scope=row>UrbanPop</th><td>-0.2781909 </td><td>-0.8728062 </td><td>-0.3780158 </td><td> 0.13387773</td></tr>\n",
       "\t<tr><th scope=row>Rape</th><td>-0.5434321 </td><td>-0.1673186 </td><td> 0.8177779 </td><td> 0.08902432</td></tr>\n",
       "</tbody>\n",
       "</table>\n"
      ],
      "text/latex": [
       "\\begin{tabular}{r|llll}\n",
       "  & PC1 & PC2 & PC3 & PC4\\\\\n",
       "\\hline\n",
       "\tMurder & -0.5358995  &  0.4181809  & -0.3412327  &  0.64922780\\\\\n",
       "\tAssault & -0.5831836  &  0.1879856  & -0.2681484  & -0.74340748\\\\\n",
       "\tUrbanPop & -0.2781909  & -0.8728062  & -0.3780158  &  0.13387773\\\\\n",
       "\tRape & -0.5434321  & -0.1673186  &  0.8177779  &  0.08902432\\\\\n",
       "\\end{tabular}\n"
      ],
      "text/markdown": [
       "\n",
       "| <!--/--> | PC1 | PC2 | PC3 | PC4 | \n",
       "|---|---|---|---|\n",
       "| Murder | -0.5358995  |  0.4181809  | -0.3412327  |  0.64922780 | \n",
       "| Assault | -0.5831836  |  0.1879856  | -0.2681484  | -0.74340748 | \n",
       "| UrbanPop | -0.2781909  | -0.8728062  | -0.3780158  |  0.13387773 | \n",
       "| Rape | -0.5434321  | -0.1673186  |  0.8177779  |  0.08902432 | \n",
       "\n",
       "\n"
      ],
      "text/plain": [
       "         PC1        PC2        PC3        PC4        \n",
       "Murder   -0.5358995  0.4181809 -0.3412327  0.64922780\n",
       "Assault  -0.5831836  0.1879856 -0.2681484 -0.74340748\n",
       "UrbanPop -0.2781909 -0.8728062 -0.3780158  0.13387773\n",
       "Rape     -0.5434321 -0.1673186  0.8177779  0.08902432"
      ]
     },
     "metadata": {},
     "output_type": "display_data"
    }
   ],
   "source": [
    "pr.out$rotation"
   ]
  },
  {
   "cell_type": "code",
   "execution_count": 65,
   "metadata": {},
   "outputs": [
    {
     "data": {
      "text/html": [
       "<ol class=list-inline>\n",
       "\t<li>50</li>\n",
       "\t<li>4</li>\n",
       "</ol>\n"
      ],
      "text/latex": [
       "\\begin{enumerate*}\n",
       "\\item 50\n",
       "\\item 4\n",
       "\\end{enumerate*}\n"
      ],
      "text/markdown": [
       "1. 50\n",
       "2. 4\n",
       "\n",
       "\n"
      ],
      "text/plain": [
       "[1] 50  4"
      ]
     },
     "metadata": {},
     "output_type": "display_data"
    }
   ],
   "source": [
    "dim(pr.out$x)"
   ]
  },
  {
   "cell_type": "code",
   "execution_count": 66,
   "metadata": {},
   "outputs": [
    {
     "data": {
      "text/html": [
       "<table>\n",
       "<thead><tr><th></th><th scope=col>PC1</th><th scope=col>PC2</th><th scope=col>PC3</th><th scope=col>PC4</th></tr></thead>\n",
       "<tbody>\n",
       "\t<tr><th scope=row>Alabama</th><td>-0.9756604  </td><td> 1.1220012  </td><td>-0.43980366 </td><td> 0.154696581</td></tr>\n",
       "\t<tr><th scope=row>Alaska</th><td>-1.9305379  </td><td> 1.0624269  </td><td> 2.01950027 </td><td>-0.434175454</td></tr>\n",
       "\t<tr><th scope=row>Arizona</th><td>-1.7454429  </td><td>-0.7384595  </td><td> 0.05423025 </td><td>-0.826264240</td></tr>\n",
       "\t<tr><th scope=row>Arkansas</th><td> 0.1399989  </td><td> 1.1085423  </td><td> 0.11342217 </td><td>-0.180973554</td></tr>\n",
       "\t<tr><th scope=row>California</th><td>-2.4986128  </td><td>-1.5274267  </td><td> 0.59254100 </td><td>-0.338559240</td></tr>\n",
       "\t<tr><th scope=row>Colorado</th><td>-1.4993407  </td><td>-0.9776297  </td><td> 1.08400162 </td><td> 0.001450164</td></tr>\n",
       "</tbody>\n",
       "</table>\n"
      ],
      "text/latex": [
       "\\begin{tabular}{r|llll}\n",
       "  & PC1 & PC2 & PC3 & PC4\\\\\n",
       "\\hline\n",
       "\tAlabama & -0.9756604   &  1.1220012   & -0.43980366  &  0.154696581\\\\\n",
       "\tAlaska & -1.9305379   &  1.0624269   &  2.01950027  & -0.434175454\\\\\n",
       "\tArizona & -1.7454429   & -0.7384595   &  0.05423025  & -0.826264240\\\\\n",
       "\tArkansas &  0.1399989   &  1.1085423   &  0.11342217  & -0.180973554\\\\\n",
       "\tCalifornia & -2.4986128   & -1.5274267   &  0.59254100  & -0.338559240\\\\\n",
       "\tColorado & -1.4993407   & -0.9776297   &  1.08400162  &  0.001450164\\\\\n",
       "\\end{tabular}\n"
      ],
      "text/markdown": [
       "\n",
       "| <!--/--> | PC1 | PC2 | PC3 | PC4 | \n",
       "|---|---|---|---|---|---|\n",
       "| Alabama | -0.9756604   |  1.1220012   | -0.43980366  |  0.154696581 | \n",
       "| Alaska | -1.9305379   |  1.0624269   |  2.01950027  | -0.434175454 | \n",
       "| Arizona | -1.7454429   | -0.7384595   |  0.05423025  | -0.826264240 | \n",
       "| Arkansas |  0.1399989   |  1.1085423   |  0.11342217  | -0.180973554 | \n",
       "| California | -2.4986128   | -1.5274267   |  0.59254100  | -0.338559240 | \n",
       "| Colorado | -1.4993407   | -0.9776297   |  1.08400162  |  0.001450164 | \n",
       "\n",
       "\n"
      ],
      "text/plain": [
       "           PC1        PC2        PC3         PC4         \n",
       "Alabama    -0.9756604  1.1220012 -0.43980366  0.154696581\n",
       "Alaska     -1.9305379  1.0624269  2.01950027 -0.434175454\n",
       "Arizona    -1.7454429 -0.7384595  0.05423025 -0.826264240\n",
       "Arkansas    0.1399989  1.1085423  0.11342217 -0.180973554\n",
       "California -2.4986128 -1.5274267  0.59254100 -0.338559240\n",
       "Colorado   -1.4993407 -0.9776297  1.08400162  0.001450164"
      ]
     },
     "metadata": {},
     "output_type": "display_data"
    }
   ],
   "source": [
    "head(pr.out$x)"
   ]
  },
  {
   "cell_type": "markdown",
   "metadata": {},
   "source": [
    "**PCA plot** shows that on the principal component PC1, all 3 variables Assault, Rape and Murder contain similar loadings. This can be seen in the 'rotation' values too."
   ]
  },
  {
   "cell_type": "code",
   "execution_count": 67,
   "metadata": {},
   "outputs": [
    {
     "data": {
      "image/png": "[encoded data removed]",
      "text/plain": [
       "plot without title"
      ]
     },
     "metadata": {},
     "output_type": "display_data"
    }
   ],
   "source": [
    "# simply inverting the components so that the graph matches the one in the ISLR book\n",
    "pr.out$rotation = -pr.out$rotation\n",
    "pr.out$x = -pr.out$x\n",
    "\n",
    "biplot(pr.out, scale=0)"
   ]
  },
  {
   "cell_type": "code",
   "execution_count": 68,
   "metadata": {},
   "outputs": [
    {
     "data": {
      "text/html": [
       "<ol class=list-inline>\n",
       "\t<li>1.57487827439123</li>\n",
       "\t<li>0.994869414817765</li>\n",
       "\t<li>0.597129115502527</li>\n",
       "\t<li>0.41644938195396</li>\n",
       "</ol>\n"
      ],
      "text/latex": [
       "\\begin{enumerate*}\n",
       "\\item 1.57487827439123\n",
       "\\item 0.994869414817765\n",
       "\\item 0.597129115502527\n",
       "\\item 0.41644938195396\n",
       "\\end{enumerate*}\n"
      ],
      "text/markdown": [
       "1. 1.57487827439123\n",
       "2. 0.994869414817765\n",
       "3. 0.597129115502527\n",
       "4. 0.41644938195396\n",
       "\n",
       "\n"
      ],
      "text/plain": [
       "[1] 1.5748783 0.9948694 0.5971291 0.4164494"
      ]
     },
     "metadata": {},
     "output_type": "display_data"
    },
    {
     "data": {
      "text/html": [
       "<ol class=list-inline>\n",
       "\t<li>2.48024157914949</li>\n",
       "\t<li>0.989765152539841</li>\n",
       "\t<li>0.35656318058083</li>\n",
       "\t<li>0.173430087729835</li>\n",
       "</ol>\n"
      ],
      "text/latex": [
       "\\begin{enumerate*}\n",
       "\\item 2.48024157914949\n",
       "\\item 0.989765152539841\n",
       "\\item 0.35656318058083\n",
       "\\item 0.173430087729835\n",
       "\\end{enumerate*}\n"
      ],
      "text/markdown": [
       "1. 2.48024157914949\n",
       "2. 0.989765152539841\n",
       "3. 0.35656318058083\n",
       "4. 0.173430087729835\n",
       "\n",
       "\n"
      ],
      "text/plain": [
       "[1] 2.4802416 0.9897652 0.3565632 0.1734301"
      ]
     },
     "metadata": {},
     "output_type": "display_data"
    }
   ],
   "source": [
    "pr.out$sd\n",
    "pr.var = pr.out$sd^2\n",
    "pr.var # provides the variance explained by the Principal component"
   ]
  },
  {
   "cell_type": "code",
   "execution_count": 69,
   "metadata": {},
   "outputs": [
    {
     "data": {
      "image/png": "[encoded data removed]",
      "text/plain": [
       "plot without title"
      ]
     },
     "metadata": {},
     "output_type": "display_data"
    }
   ],
   "source": [
    "#pve-proportion of variance explained\n",
    "pve = pr.var/sum(pr.var)\n",
    "\n",
    "par(mfrow = c(1,2))\n",
    "plot(pve, xlab=\"Principal component\", ylab=\"Proportion of variance explained\", ylim=c(0,1), type='b')\n",
    "plot(cumsum(pve), xlab=\"Principal component\", ylab=\"Cumulative Proportion of variance explained\", ylim=c(0,1), type='b')"
   ]
  },
  {
   "cell_type": "markdown",
   "metadata": {},
   "source": [
    "<h2>Principal component analysis on Genomic data</h2>"
   ]
  },
  {
   "cell_type": "code",
   "execution_count": 70,
   "metadata": {},
   "outputs": [
    {
     "data": {
      "text/html": [
       "64"
      ],
      "text/latex": [
       "64"
      ],
      "text/markdown": [
       "64"
      ],
      "text/plain": [
       "[1] 64"
      ]
     },
     "metadata": {},
     "output_type": "display_data"
    },
    {
     "data": {
      "text/html": [
       "<ol class=list-inline>\n",
       "\t<li>64</li>\n",
       "\t<li>6830</li>\n",
       "</ol>\n"
      ],
      "text/latex": [
       "\\begin{enumerate*}\n",
       "\\item 64\n",
       "\\item 6830\n",
       "\\end{enumerate*}\n"
      ],
      "text/markdown": [
       "1. 64\n",
       "2. 6830\n",
       "\n",
       "\n"
      ],
      "text/plain": [
       "[1]   64 6830"
      ]
     },
     "metadata": {},
     "output_type": "display_data"
    }
   ],
   "source": [
    "nci.labs = NCI60$labs #labels\n",
    "nci.data = NCI60$data #features\n",
    "\n",
    "length(nci.labs)\n",
    "dim(nci.data)"
   ]
  },
  {
   "cell_type": "code",
   "execution_count": 71,
   "metadata": {},
   "outputs": [
    {
     "data": {
      "text/plain": [
       "nci.labs\n",
       "     BREAST         CNS       COLON K562A-repro K562B-repro    LEUKEMIA \n",
       "          7           5           7           1           1           6 \n",
       "MCF7A-repro MCF7D-repro    MELANOMA       NSCLC     OVARIAN    PROSTATE \n",
       "          1           1           8           9           6           2 \n",
       "      RENAL     UNKNOWN \n",
       "          9           1 "
      ]
     },
     "metadata": {},
     "output_type": "display_data"
    }
   ],
   "source": [
    "table(nci.labs)"
   ]
  },
  {
   "cell_type": "code",
   "execution_count": 72,
   "metadata": {},
   "outputs": [],
   "source": [
    "pr.out = prcomp(nci.data, scale=TRUE)"
   ]
  },
  {
   "cell_type": "code",
   "execution_count": 73,
   "metadata": {},
   "outputs": [
    {
     "data": {
      "text/html": [
       "<ol class=list-inline>\n",
       "\t<li>'sdev'</li>\n",
       "\t<li>'rotation'</li>\n",
       "\t<li>'center'</li>\n",
       "\t<li>'scale'</li>\n",
       "\t<li>'x'</li>\n",
       "</ol>\n"
      ],
      "text/latex": [
       "\\begin{enumerate*}\n",
       "\\item 'sdev'\n",
       "\\item 'rotation'\n",
       "\\item 'center'\n",
       "\\item 'scale'\n",
       "\\item 'x'\n",
       "\\end{enumerate*}\n"
      ],
      "text/markdown": [
       "1. 'sdev'\n",
       "2. 'rotation'\n",
       "3. 'center'\n",
       "4. 'scale'\n",
       "5. 'x'\n",
       "\n",
       "\n"
      ],
      "text/plain": [
       "[1] \"sdev\"     \"rotation\" \"center\"   \"scale\"    \"x\"       "
      ]
     },
     "metadata": {},
     "output_type": "display_data"
    }
   ],
   "source": [
    "names(pr.out)"
   ]
  },
  {
   "cell_type": "code",
   "execution_count": 74,
   "metadata": {},
   "outputs": [
    {
     "data": {
      "text/html": [
       "<ol class=list-inline>\n",
       "\t<li>775.815728883097</li>\n",
       "\t<li>461.448632884253</li>\n",
       "\t<li>392.850824580941</li>\n",
       "\t<li>290.107970933344</li>\n",
       "\t<li>255.098611783572</li>\n",
       "\t<li>247.152442144941</li>\n",
       "\t<li>209.422989741865</li>\n",
       "\t<li>183.447180841476</li>\n",
       "\t<li>172.764718013591</li>\n",
       "\t<li>162.271841934729</li>\n",
       "\t<li>160.952921741935</li>\n",
       "\t<li>147.809530947835</li>\n",
       "\t<li>139.953357317645</li>\n",
       "\t<li>135.153264385237</li>\n",
       "\t<li>130.823006374314</li>\n",
       "\t<li>121.011263982497</li>\n",
       "\t<li>113.56443946</li>\n",
       "\t<li>110.01483823405</li>\n",
       "\t<li>108.89295725587</li>\n",
       "\t<li>106.542440981009</li>\n",
       "\t<li>102.942903377602</li>\n",
       "\t<li>101.090755964854</li>\n",
       "\t<li>98.0625679100157</li>\n",
       "\t<li>93.0772621482041</li>\n",
       "\t<li>90.3951862946019</li>\n",
       "\t<li>87.0961031870069</li>\n",
       "\t<li>85.9922292324377</li>\n",
       "\t<li>82.6289389584155</li>\n",
       "\t<li>80.6614672641135</li>\n",
       "\t<li>76.5630499854874</li>\n",
       "\t<li>73.953491351883</li>\n",
       "\t<li>71.3581483725122</li>\n",
       "\t<li>70.10793586679</li>\n",
       "\t<li>67.49915076423</li>\n",
       "\t<li>66.5417625576958</li>\n",
       "\t<li>63.5951205696377</li>\n",
       "\t<li>62.4805200624804</li>\n",
       "\t<li>61.1722730803722</li>\n",
       "\t<li>59.6225249979663</li>\n",
       "\t<li>57.5479237621176</li>\n",
       "\t<li>55.5948212763818</li>\n",
       "\t<li>53.9399116670718</li>\n",
       "\t<li>50.4737681793735</li>\n",
       "\t<li>49.1829383295195</li>\n",
       "\t<li>48.4191234792186</li>\n",
       "\t<li>47.1456003848637</li>\n",
       "\t<li>46.3412256313824</li>\n",
       "\t<li>44.190984831101</li>\n",
       "\t<li>43.7723619400277</li>\n",
       "\t<li>41.0615168266991</li>\n",
       "\t<li>38.6863908296451</li>\n",
       "\t<li>38.4804104413751</li>\n",
       "\t<li>36.8092753275115</li>\n",
       "\t<li>35.0233066225295</li>\n",
       "\t<li>34.9556790924001</li>\n",
       "\t<li>32.8946545575704</li>\n",
       "\t<li>29.9494643220916</li>\n",
       "\t<li>28.0068287163904</li>\n",
       "\t<li>25.2121923934779</li>\n",
       "\t<li>21.9396619055427</li>\n",
       "\t<li>17.4362472463325</li>\n",
       "\t<li>16.6637127693847</li>\n",
       "\t<li>16.3316450994844</li>\n",
       "\t<li>1.53002674542855e-28</li>\n",
       "</ol>\n"
      ],
      "text/latex": [
       "\\begin{enumerate*}\n",
       "\\item 775.815728883097\n",
       "\\item 461.448632884253\n",
       "\\item 392.850824580941\n",
       "\\item 290.107970933344\n",
       "\\item 255.098611783572\n",
       "\\item 247.152442144941\n",
       "\\item 209.422989741865\n",
       "\\item 183.447180841476\n",
       "\\item 172.764718013591\n",
       "\\item 162.271841934729\n",
       "\\item 160.952921741935\n",
       "\\item 147.809530947835\n",
       "\\item 139.953357317645\n",
       "\\item 135.153264385237\n",
       "\\item 130.823006374314\n",
       "\\item 121.011263982497\n",
       "\\item 113.56443946\n",
       "\\item 110.01483823405\n",
       "\\item 108.89295725587\n",
       "\\item 106.542440981009\n",
       "\\item 102.942903377602\n",
       "\\item 101.090755964854\n",
       "\\item 98.0625679100157\n",
       "\\item 93.0772621482041\n",
       "\\item 90.3951862946019\n",
       "\\item 87.0961031870069\n",
       "\\item 85.9922292324377\n",
       "\\item 82.6289389584155\n",
       "\\item 80.6614672641135\n",
       "\\item 76.5630499854874\n",
       "\\item 73.953491351883\n",
       "\\item 71.3581483725122\n",
       "\\item 70.10793586679\n",
       "\\item 67.49915076423\n",
       "\\item 66.5417625576958\n",
       "\\item 63.5951205696377\n",
       "\\item 62.4805200624804\n",
       "\\item 61.1722730803722\n",
       "\\item 59.6225249979663\n",
       "\\item 57.5479237621176\n",
       "\\item 55.5948212763818\n",
       "\\item 53.9399116670718\n",
       "\\item 50.4737681793735\n",
       "\\item 49.1829383295195\n",
       "\\item 48.4191234792186\n",
       "\\item 47.1456003848637\n",
       "\\item 46.3412256313824\n",
       "\\item 44.190984831101\n",
       "\\item 43.7723619400277\n",
       "\\item 41.0615168266991\n",
       "\\item 38.6863908296451\n",
       "\\item 38.4804104413751\n",
       "\\item 36.8092753275115\n",
       "\\item 35.0233066225295\n",
       "\\item 34.9556790924001\n",
       "\\item 32.8946545575704\n",
       "\\item 29.9494643220916\n",
       "\\item 28.0068287163904\n",
       "\\item 25.2121923934779\n",
       "\\item 21.9396619055427\n",
       "\\item 17.4362472463325\n",
       "\\item 16.6637127693847\n",
       "\\item 16.3316450994844\n",
       "\\item 1.53002674542855e-28\n",
       "\\end{enumerate*}\n"
      ],
      "text/markdown": [
       "1. 775.815728883097\n",
       "2. 461.448632884253\n",
       "3. 392.850824580941\n",
       "4. 290.107970933344\n",
       "5. 255.098611783572\n",
       "6. 247.152442144941\n",
       "7. 209.422989741865\n",
       "8. 183.447180841476\n",
       "9. 172.764718013591\n",
       "10. 162.271841934729\n",
       "11. 160.952921741935\n",
       "12. 147.809530947835\n",
       "13. 139.953357317645\n",
       "14. 135.153264385237\n",
       "15. 130.823006374314\n",
       "16. 121.011263982497\n",
       "17. 113.56443946\n",
       "18. 110.01483823405\n",
       "19. 108.89295725587\n",
       "20. 106.542440981009\n",
       "21. 102.942903377602\n",
       "22. 101.090755964854\n",
       "23. 98.0625679100157\n",
       "24. 93.0772621482041\n",
       "25. 90.3951862946019\n",
       "26. 87.0961031870069\n",
       "27. 85.9922292324377\n",
       "28. 82.6289389584155\n",
       "29. 80.6614672641135\n",
       "30. 76.5630499854874\n",
       "31. 73.953491351883\n",
       "32. 71.3581483725122\n",
       "33. 70.10793586679\n",
       "34. 67.49915076423\n",
       "35. 66.5417625576958\n",
       "36. 63.5951205696377\n",
       "37. 62.4805200624804\n",
       "38. 61.1722730803722\n",
       "39. 59.6225249979663\n",
       "40. 57.5479237621176\n",
       "41. 55.5948212763818\n",
       "42. 53.9399116670718\n",
       "43. 50.4737681793735\n",
       "44. 49.1829383295195\n",
       "45. 48.4191234792186\n",
       "46. 47.1456003848637\n",
       "47. 46.3412256313824\n",
       "48. 44.190984831101\n",
       "49. 43.7723619400277\n",
       "50. 41.0615168266991\n",
       "51. 38.6863908296451\n",
       "52. 38.4804104413751\n",
       "53. 36.8092753275115\n",
       "54. 35.0233066225295\n",
       "55. 34.9556790924001\n",
       "56. 32.8946545575704\n",
       "57. 29.9494643220916\n",
       "58. 28.0068287163904\n",
       "59. 25.2121923934779\n",
       "60. 21.9396619055427\n",
       "61. 17.4362472463325\n",
       "62. 16.6637127693847\n",
       "63. 16.3316450994844\n",
       "64. 1.53002674542855e-28\n",
       "\n",
       "\n"
      ],
      "text/plain": [
       " [1] 7.758157e+02 4.614486e+02 3.928508e+02 2.901080e+02 2.550986e+02\n",
       " [6] 2.471524e+02 2.094230e+02 1.834472e+02 1.727647e+02 1.622718e+02\n",
       "[11] 1.609529e+02 1.478095e+02 1.399534e+02 1.351533e+02 1.308230e+02\n",
       "[16] 1.210113e+02 1.135644e+02 1.100148e+02 1.088930e+02 1.065424e+02\n",
       "[21] 1.029429e+02 1.010908e+02 9.806257e+01 9.307726e+01 9.039519e+01\n",
       "[26] 8.709610e+01 8.599223e+01 8.262894e+01 8.066147e+01 7.656305e+01\n",
       "[31] 7.395349e+01 7.135815e+01 7.010794e+01 6.749915e+01 6.654176e+01\n",
       "[36] 6.359512e+01 6.248052e+01 6.117227e+01 5.962252e+01 5.754792e+01\n",
       "[41] 5.559482e+01 5.393991e+01 5.047377e+01 4.918294e+01 4.841912e+01\n",
       "[46] 4.714560e+01 4.634123e+01 4.419098e+01 4.377236e+01 4.106152e+01\n",
       "[51] 3.868639e+01 3.848041e+01 3.680928e+01 3.502331e+01 3.495568e+01\n",
       "[56] 3.289465e+01 2.994946e+01 2.800683e+01 2.521219e+01 2.193966e+01\n",
       "[61] 1.743625e+01 1.666371e+01 1.633165e+01 1.530027e-28"
      ]
     },
     "metadata": {},
     "output_type": "display_data"
    }
   ],
   "source": [
    "pr.var = pr.out$sd^2\n",
    "pr.var # provides the variance explained by the Principal component"
   ]
  },
  {
   "cell_type": "code",
   "execution_count": 75,
   "metadata": {},
   "outputs": [],
   "source": [
    "Cols = function(vec){\n",
    "    cols = rainbow(length(unique(vec)))\n",
    "    return(cols[as.numeric(as.factor(vec))])\n",
    "}"
   ]
  },
  {
   "cell_type": "code",
   "execution_count": 76,
   "metadata": {},
   "outputs": [
    {
     "data": {
      "image/png": "[encoded data removed]",
      "text/plain": [
       "plot without title"
      ]
     },
     "metadata": {},
     "output_type": "display_data"
    }
   ],
   "source": [
    "# Below plots show that, records with similar cancer types, tend to have similar values on the first few principal components\n",
    "par(mfrow = c(1,2))\n",
    "plot(pr.out$x[,1:2], col = Cols(nci.labs), pch=19, xlab=\"Z1\", ylab=\"Z2\")\n",
    "plot(pr.out$x[,c(1, 3)], col = Cols(nci.labs), pch=19, xlab=\"Z1\", ylab=\"Z3\")"
   ]
  },
  {
   "cell_type": "code",
   "execution_count": 77,
   "metadata": {},
   "outputs": [
    {
     "data": {
      "text/plain": [
       "Importance of components:\n",
       "                           PC1      PC2      PC3      PC4      PC5      PC6\n",
       "Standard deviation     27.8535 21.48136 19.82046 17.03256 15.97181 15.72108\n",
       "Proportion of Variance  0.1136  0.06756  0.05752  0.04248  0.03735  0.03619\n",
       "Cumulative Proportion   0.1136  0.18115  0.23867  0.28115  0.31850  0.35468\n",
       "                            PC7      PC8      PC9     PC10     PC11     PC12\n",
       "Standard deviation     14.47145 13.54427 13.14400 12.73860 12.68672 12.15769\n",
       "Proportion of Variance  0.03066  0.02686  0.02529  0.02376  0.02357  0.02164\n",
       "Cumulative Proportion   0.38534  0.41220  0.43750  0.46126  0.48482  0.50646\n",
       "                           PC13     PC14     PC15     PC16     PC17     PC18\n",
       "Standard deviation     11.83019 11.62554 11.43779 11.00051 10.65666 10.48880\n",
       "Proportion of Variance  0.02049  0.01979  0.01915  0.01772  0.01663  0.01611\n",
       "Cumulative Proportion   0.52695  0.54674  0.56590  0.58361  0.60024  0.61635\n",
       "                           PC19    PC20     PC21    PC22    PC23    PC24\n",
       "Standard deviation     10.43518 10.3219 10.14608 10.0544 9.90265 9.64766\n",
       "Proportion of Variance  0.01594  0.0156  0.01507  0.0148 0.01436 0.01363\n",
       "Cumulative Proportion   0.63229  0.6479  0.66296  0.6778 0.69212 0.70575\n",
       "                          PC25    PC26    PC27   PC28    PC29    PC30    PC31\n",
       "Standard deviation     9.50764 9.33253 9.27320 9.0900 8.98117 8.75003 8.59962\n",
       "Proportion of Variance 0.01324 0.01275 0.01259 0.0121 0.01181 0.01121 0.01083\n",
       "Cumulative Proportion  0.71899 0.73174 0.74433 0.7564 0.76824 0.77945 0.79027\n",
       "                          PC32    PC33    PC34    PC35    PC36    PC37    PC38\n",
       "Standard deviation     8.44738 8.37305 8.21579 8.15731 7.97465 7.90446 7.82127\n",
       "Proportion of Variance 0.01045 0.01026 0.00988 0.00974 0.00931 0.00915 0.00896\n",
       "Cumulative Proportion  0.80072 0.81099 0.82087 0.83061 0.83992 0.84907 0.85803\n",
       "                          PC39    PC40    PC41   PC42    PC43   PC44    PC45\n",
       "Standard deviation     7.72156 7.58603 7.45619 7.3444 7.10449 7.0131 6.95839\n",
       "Proportion of Variance 0.00873 0.00843 0.00814 0.0079 0.00739 0.0072 0.00709\n",
       "Cumulative Proportion  0.86676 0.87518 0.88332 0.8912 0.89861 0.9058 0.91290\n",
       "                         PC46    PC47    PC48    PC49    PC50    PC51    PC52\n",
       "Standard deviation     6.8663 6.80744 6.64763 6.61607 6.40793 6.21984 6.20326\n",
       "Proportion of Variance 0.0069 0.00678 0.00647 0.00641 0.00601 0.00566 0.00563\n",
       "Cumulative Proportion  0.9198 0.92659 0.93306 0.93947 0.94548 0.95114 0.95678\n",
       "                          PC53    PC54    PC55    PC56    PC57   PC58    PC59\n",
       "Standard deviation     6.06706 5.91805 5.91233 5.73539 5.47261 5.2921 5.02117\n",
       "Proportion of Variance 0.00539 0.00513 0.00512 0.00482 0.00438 0.0041 0.00369\n",
       "Cumulative Proportion  0.96216 0.96729 0.97241 0.97723 0.98161 0.9857 0.98940\n",
       "                          PC60    PC61    PC62    PC63      PC64\n",
       "Standard deviation     4.68398 4.17567 4.08212 4.04124 1.237e-14\n",
       "Proportion of Variance 0.00321 0.00255 0.00244 0.00239 0.000e+00\n",
       "Cumulative Proportion  0.99262 0.99517 0.99761 1.00000 1.000e+00"
      ]
     },
     "metadata": {},
     "output_type": "display_data"
    }
   ],
   "source": [
    "summary(pr.out)"
   ]
  },
  {
   "cell_type": "code",
   "execution_count": 78,
   "metadata": {},
   "outputs": [
    {
     "data": {
      "image/png": "[encoded data removed]",
      "text/plain": [
       "Plot with title \"Variance Explained by each Principal Component\""
      ]
     },
     "metadata": {},
     "output_type": "display_data"
    }
   ],
   "source": [
    "plot(pr.out, main=\"Variance Explained by each Principal Component\")"
   ]
  },
  {
   "cell_type": "code",
   "execution_count": 79,
   "metadata": {},
   "outputs": [],
   "source": [
    "pve = (pr.out$sd ^ 2)/sum((pr.out$sd ^ 2))"
   ]
  },
  {
   "cell_type": "code",
   "execution_count": 80,
   "metadata": {},
   "outputs": [
    {
     "data": {
      "image/png": "[encoded data removed]",
      "text/plain": [
       "plot without title"
      ]
     },
     "metadata": {},
     "output_type": "display_data"
    }
   ],
   "source": [
    "par(mfrow = c(1,2))\n",
    "plot(pve, xlab=\"Principal component\", ylab=\"Proportion of variance explained\", ylim=c(0,1), type='b')\n",
    "plot(cumsum(pve), xlab=\"Principal component\", ylab=\"Cumulative Proportion of variance explained\", ylim=c(0,1), type='b')"
   ]
  }
 ],
 "metadata": {
  "kernelspec": {
   "display_name": "R",
   "language": "R",
   "name": "ir"
  },
  "language_info": {
   "codemirror_mode": "r",
   "file_extension": ".r",
   "mimetype": "text/x-r-source",
   "name": "R",
   "pygments_lexer": "r",
   "version": "3.4.3"
  }
 },
 "nbformat": 4,
 "nbformat_minor": 2
}
