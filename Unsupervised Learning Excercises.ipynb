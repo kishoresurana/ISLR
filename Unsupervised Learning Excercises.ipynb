{
 "cells": [
  {
   "cell_type": "markdown",
   "metadata": {},
   "source": [
    "<h2>Question #7</h2>"
   ]
  },
  {
   "cell_type": "code",
   "execution_count": 1,
   "metadata": {},
   "outputs": [
    {
     "name": "stderr",
     "output_type": "stream",
     "text": [
      "\n",
      "Attaching package: 'ISLR'\n",
      "\n",
      "The following object is masked _by_ '.GlobalEnv':\n",
      "\n",
      "    Auto\n",
      "\n"
     ]
    }
   ],
   "source": [
    "set.seed(1)\n",
    "library(ISLR)"
   ]
  },
  {
   "cell_type": "code",
   "execution_count": 2,
   "metadata": {},
   "outputs": [],
   "source": [
    "normUSArr = data.frame(scale(USArrests))"
   ]
  },
  {
   "cell_type": "code",
   "execution_count": 3,
   "metadata": {},
   "outputs": [
    {
     "data": {
      "text/html": [
       "<table>\n",
       "<thead><tr><th></th><th scope=col>Murder</th><th scope=col>Assault</th><th scope=col>UrbanPop</th><th scope=col>Rape</th></tr></thead>\n",
       "<tbody>\n",
       "\t<tr><th scope=row>Alabama</th><td>1.24256408  </td><td>0.7828393   </td><td>-0.5209066  </td><td>-0.003416473</td></tr>\n",
       "\t<tr><th scope=row>Alaska</th><td>0.50786248  </td><td>1.1068225   </td><td>-1.2117642  </td><td> 2.484202941</td></tr>\n",
       "\t<tr><th scope=row>Arizona</th><td>0.07163341  </td><td>1.4788032   </td><td> 0.9989801  </td><td> 1.042878388</td></tr>\n",
       "\t<tr><th scope=row>Arkansas</th><td>0.23234938  </td><td>0.2308680   </td><td>-1.0735927  </td><td>-0.184916602</td></tr>\n",
       "\t<tr><th scope=row>California</th><td>0.27826823  </td><td>1.2628144   </td><td> 1.7589234  </td><td> 2.067820292</td></tr>\n",
       "\t<tr><th scope=row>Colorado</th><td>0.02571456  </td><td>0.3988593   </td><td> 0.8608085  </td><td> 1.864967207</td></tr>\n",
       "</tbody>\n",
       "</table>\n"
      ],
      "text/latex": [
       "\\begin{tabular}{r|llll}\n",
       "  & Murder & Assault & UrbanPop & Rape\\\\\n",
       "\\hline\n",
       "\tAlabama & 1.24256408   & 0.7828393    & -0.5209066   & -0.003416473\\\\\n",
       "\tAlaska & 0.50786248   & 1.1068225    & -1.2117642   &  2.484202941\\\\\n",
       "\tArizona & 0.07163341   & 1.4788032    &  0.9989801   &  1.042878388\\\\\n",
       "\tArkansas & 0.23234938   & 0.2308680    & -1.0735927   & -0.184916602\\\\\n",
       "\tCalifornia & 0.27826823   & 1.2628144    &  1.7589234   &  2.067820292\\\\\n",
       "\tColorado & 0.02571456   & 0.3988593    &  0.8608085   &  1.864967207\\\\\n",
       "\\end{tabular}\n"
      ],
      "text/markdown": [
       "\n",
       "| <!--/--> | Murder | Assault | UrbanPop | Rape | \n",
       "|---|---|---|---|---|---|\n",
       "| Alabama | 1.24256408   | 0.7828393    | -0.5209066   | -0.003416473 | \n",
       "| Alaska | 0.50786248   | 1.1068225    | -1.2117642   |  2.484202941 | \n",
       "| Arizona | 0.07163341   | 1.4788032    |  0.9989801   |  1.042878388 | \n",
       "| Arkansas | 0.23234938   | 0.2308680    | -1.0735927   | -0.184916602 | \n",
       "| California | 0.27826823   | 1.2628144    |  1.7589234   |  2.067820292 | \n",
       "| Colorado | 0.02571456   | 0.3988593    |  0.8608085   |  1.864967207 | \n",
       "\n",
       "\n"
      ],
      "text/plain": [
       "           Murder     Assault   UrbanPop   Rape        \n",
       "Alabama    1.24256408 0.7828393 -0.5209066 -0.003416473\n",
       "Alaska     0.50786248 1.1068225 -1.2117642  2.484202941\n",
       "Arizona    0.07163341 1.4788032  0.9989801  1.042878388\n",
       "Arkansas   0.23234938 0.2308680 -1.0735927 -0.184916602\n",
       "California 0.27826823 1.2628144  1.7589234  2.067820292\n",
       "Colorado   0.02571456 0.3988593  0.8608085  1.864967207"
      ]
     },
     "metadata": {},
     "output_type": "display_data"
    }
   ],
   "source": [
    "head(normUSArr)"
   ]
  },
  {
   "cell_type": "code",
   "execution_count": 4,
   "metadata": {},
   "outputs": [],
   "source": [
    "distArrests <- dist(normUSArr)\n",
    "transposeNormUSArr <- t(normUSArr)\n",
    "corrArrests <- cor(transposeNormUSArr, use=\"pairwise.complete.obs\")"
   ]
  },
  {
   "cell_type": "code",
   "execution_count": 5,
   "metadata": {},
   "outputs": [],
   "source": [
    "a <- as.dist(1-corrArrests)\n",
    "b <- (distArrests^2)"
   ]
  },
  {
   "cell_type": "code",
   "execution_count": 6,
   "metadata": {},
   "outputs": [
    {
     "data": {
      "text/plain": [
       "    Min.  1st Qu.   Median     Mean  3rd Qu.     Max. \n",
       "0.000086 0.069135 0.133943 0.234193 0.262589 4.887686 "
      ]
     },
     "metadata": {},
     "output_type": "display_data"
    }
   ],
   "source": [
    "summary(a/b)"
   ]
  },
  {
   "cell_type": "markdown",
   "metadata": {},
   "source": [
    "<h2>Question 8</h2>"
   ]
  },
  {
   "cell_type": "markdown",
   "metadata": {},
   "source": [
    "<h3>a</h3>"
   ]
  },
  {
   "cell_type": "code",
   "execution_count": 7,
   "metadata": {},
   "outputs": [],
   "source": [
    "pr.out <- prcomp(normUSArr)"
   ]
  },
  {
   "cell_type": "code",
   "execution_count": 8,
   "metadata": {},
   "outputs": [
    {
     "data": {
      "text/html": [
       "<ol class=list-inline>\n",
       "\t<li>'sdev'</li>\n",
       "\t<li>'rotation'</li>\n",
       "\t<li>'center'</li>\n",
       "\t<li>'scale'</li>\n",
       "\t<li>'x'</li>\n",
       "</ol>\n"
      ],
      "text/latex": [
       "\\begin{enumerate*}\n",
       "\\item 'sdev'\n",
       "\\item 'rotation'\n",
       "\\item 'center'\n",
       "\\item 'scale'\n",
       "\\item 'x'\n",
       "\\end{enumerate*}\n"
      ],
      "text/markdown": [
       "1. 'sdev'\n",
       "2. 'rotation'\n",
       "3. 'center'\n",
       "4. 'scale'\n",
       "5. 'x'\n",
       "\n",
       "\n"
      ],
      "text/plain": [
       "[1] \"sdev\"     \"rotation\" \"center\"   \"scale\"    \"x\"       "
      ]
     },
     "metadata": {},
     "output_type": "display_data"
    }
   ],
   "source": [
    "names(pr.out)"
   ]
  },
  {
   "cell_type": "code",
   "execution_count": 9,
   "metadata": {},
   "outputs": [
    {
     "data": {
      "text/html": [
       "<table>\n",
       "<thead><tr><th></th><th scope=col>PC1</th><th scope=col>PC2</th><th scope=col>PC3</th><th scope=col>PC4</th></tr></thead>\n",
       "<tbody>\n",
       "\t<tr><th scope=row>Murder</th><td>-0.5358995 </td><td> 0.4181809 </td><td>-0.3412327 </td><td> 0.64922780</td></tr>\n",
       "\t<tr><th scope=row>Assault</th><td>-0.5831836 </td><td> 0.1879856 </td><td>-0.2681484 </td><td>-0.74340748</td></tr>\n",
       "\t<tr><th scope=row>UrbanPop</th><td>-0.2781909 </td><td>-0.8728062 </td><td>-0.3780158 </td><td> 0.13387773</td></tr>\n",
       "\t<tr><th scope=row>Rape</th><td>-0.5434321 </td><td>-0.1673186 </td><td> 0.8177779 </td><td> 0.08902432</td></tr>\n",
       "</tbody>\n",
       "</table>\n"
      ],
      "text/latex": [
       "\\begin{tabular}{r|llll}\n",
       "  & PC1 & PC2 & PC3 & PC4\\\\\n",
       "\\hline\n",
       "\tMurder & -0.5358995  &  0.4181809  & -0.3412327  &  0.64922780\\\\\n",
       "\tAssault & -0.5831836  &  0.1879856  & -0.2681484  & -0.74340748\\\\\n",
       "\tUrbanPop & -0.2781909  & -0.8728062  & -0.3780158  &  0.13387773\\\\\n",
       "\tRape & -0.5434321  & -0.1673186  &  0.8177779  &  0.08902432\\\\\n",
       "\\end{tabular}\n"
      ],
      "text/markdown": [
       "\n",
       "| <!--/--> | PC1 | PC2 | PC3 | PC4 | \n",
       "|---|---|---|---|\n",
       "| Murder | -0.5358995  |  0.4181809  | -0.3412327  |  0.64922780 | \n",
       "| Assault | -0.5831836  |  0.1879856  | -0.2681484  | -0.74340748 | \n",
       "| UrbanPop | -0.2781909  | -0.8728062  | -0.3780158  |  0.13387773 | \n",
       "| Rape | -0.5434321  | -0.1673186  |  0.8177779  |  0.08902432 | \n",
       "\n",
       "\n"
      ],
      "text/plain": [
       "         PC1        PC2        PC3        PC4        \n",
       "Murder   -0.5358995  0.4181809 -0.3412327  0.64922780\n",
       "Assault  -0.5831836  0.1879856 -0.2681484 -0.74340748\n",
       "UrbanPop -0.2781909 -0.8728062 -0.3780158  0.13387773\n",
       "Rape     -0.5434321 -0.1673186  0.8177779  0.08902432"
      ]
     },
     "metadata": {},
     "output_type": "display_data"
    }
   ],
   "source": [
    "pr.out$rotation"
   ]
  },
  {
   "cell_type": "code",
   "execution_count": 10,
   "metadata": {},
   "outputs": [
    {
     "data": {
      "text/html": [
       "<ol class=list-inline>\n",
       "\t<li>1.57487827439123</li>\n",
       "\t<li>0.994869414817764</li>\n",
       "\t<li>0.597129115502527</li>\n",
       "\t<li>0.41644938195396</li>\n",
       "</ol>\n"
      ],
      "text/latex": [
       "\\begin{enumerate*}\n",
       "\\item 1.57487827439123\n",
       "\\item 0.994869414817764\n",
       "\\item 0.597129115502527\n",
       "\\item 0.41644938195396\n",
       "\\end{enumerate*}\n"
      ],
      "text/markdown": [
       "1. 1.57487827439123\n",
       "2. 0.994869414817764\n",
       "3. 0.597129115502527\n",
       "4. 0.41644938195396\n",
       "\n",
       "\n"
      ],
      "text/plain": [
       "[1] 1.5748783 0.9948694 0.5971291 0.4164494"
      ]
     },
     "metadata": {},
     "output_type": "display_data"
    }
   ],
   "source": [
    "pr.out$sdev"
   ]
  },
  {
   "cell_type": "code",
   "execution_count": 11,
   "metadata": {},
   "outputs": [
    {
     "data": {
      "text/html": [
       "<ol class=list-inline>\n",
       "\t<li>0.620060394787374</li>\n",
       "\t<li>0.24744128813496</li>\n",
       "\t<li>0.0891407951452075</li>\n",
       "\t<li>0.0433575219324588</li>\n",
       "</ol>\n"
      ],
      "text/latex": [
       "\\begin{enumerate*}\n",
       "\\item 0.620060394787374\n",
       "\\item 0.24744128813496\n",
       "\\item 0.0891407951452075\n",
       "\\item 0.0433575219324588\n",
       "\\end{enumerate*}\n"
      ],
      "text/markdown": [
       "1. 0.620060394787374\n",
       "2. 0.24744128813496\n",
       "3. 0.0891407951452075\n",
       "4. 0.0433575219324588\n",
       "\n",
       "\n"
      ],
      "text/plain": [
       "[1] 0.62006039 0.24744129 0.08914080 0.04335752"
      ]
     },
     "metadata": {},
     "output_type": "display_data"
    }
   ],
   "source": [
    "pve = (pr.out$sdev^2)/sum(pr.out$sdev^2)\n",
    "pve"
   ]
  },
  {
   "cell_type": "markdown",
   "metadata": {},
   "source": [
    "<h3>b</h3>"
   ]
  },
  {
   "cell_type": "code",
   "execution_count": 12,
   "metadata": {},
   "outputs": [
    {
     "data": {
      "text/html": [
       "<ol class=list-inline>\n",
       "\t<li>0.620060394787374</li>\n",
       "\t<li>0.24744128813496</li>\n",
       "\t<li>0.0891407951452075</li>\n",
       "\t<li>0.0433575219324588</li>\n",
       "</ol>\n"
      ],
      "text/latex": [
       "\\begin{enumerate*}\n",
       "\\item 0.620060394787374\n",
       "\\item 0.24744128813496\n",
       "\\item 0.0891407951452075\n",
       "\\item 0.0433575219324588\n",
       "\\end{enumerate*}\n"
      ],
      "text/markdown": [
       "1. 0.620060394787374\n",
       "2. 0.24744128813496\n",
       "3. 0.0891407951452075\n",
       "4. 0.0433575219324588\n",
       "\n",
       "\n"
      ],
      "text/plain": [
       "[1] 0.62006039 0.24744129 0.08914080 0.04335752"
      ]
     },
     "metadata": {},
     "output_type": "display_data"
    }
   ],
   "source": [
    "loadings <- as.data.frame(pr.out$rotation)\n",
    "\n",
    "tot = array(1:ncol(loadings)*nrow(normUSArr), dim=c(nrow(normUSArr), ncol(loadings)))\n",
    "for (j in 1:ncol(loadings)){\n",
    "    for (i in 1:nrow(normUSArr)){\n",
    "        stateUSArr = normUSArr[i,]\n",
    "         tot[i,j] <- (stateUSArr[1,1] * loadings[1, j] + stateUSArr[1,2] * loadings[2, j] + stateUSArr[1,3] * loadings[3, j] + stateUSArr[1, 4] * loadings[4, j]) ^ 2\n",
    "    }    \n",
    "}\n",
    "\n",
    "pve2 <- apply(tot, 2, sum) / nrow(normUSArr)\n",
    "pve2/sum(pve2)"
   ]
  },
  {
   "cell_type": "markdown",
   "metadata": {},
   "source": [
    "<h2>Question 9 </h2>"
   ]
  },
  {
   "cell_type": "code",
   "execution_count": 19,
   "metadata": {},
   "outputs": [
    {
     "data": {
      "image/png": "[encoded data removed]",
      "text/plain": [
       "Plot with title \"Cluster Dendrogram\""
      ]
     },
     "metadata": {},
     "output_type": "display_data"
    }
   ],
   "source": [
    "hc.clust <- hclust(dist(USArrests), method=\"complete\")\n",
    "plot(hc.clust)"
   ]
  },
  {
   "cell_type": "code",
   "execution_count": 18,
   "metadata": {},
   "outputs": [
    {
     "data": {
      "text/html": [
       "<dl class=dl-horizontal>\n",
       "\t<dt>Alabama</dt>\n",
       "\t\t<dd>1</dd>\n",
       "\t<dt>Alaska</dt>\n",
       "\t\t<dd>1</dd>\n",
       "\t<dt>Arizona</dt>\n",
       "\t\t<dd>1</dd>\n",
       "\t<dt>Arkansas</dt>\n",
       "\t\t<dd>2</dd>\n",
       "\t<dt>California</dt>\n",
       "\t\t<dd>1</dd>\n",
       "\t<dt>Colorado</dt>\n",
       "\t\t<dd>2</dd>\n",
       "\t<dt>Connecticut</dt>\n",
       "\t\t<dd>3</dd>\n",
       "\t<dt>Delaware</dt>\n",
       "\t\t<dd>1</dd>\n",
       "\t<dt>Florida</dt>\n",
       "\t\t<dd>1</dd>\n",
       "\t<dt>Georgia</dt>\n",
       "\t\t<dd>2</dd>\n",
       "\t<dt>Hawaii</dt>\n",
       "\t\t<dd>3</dd>\n",
       "\t<dt>Idaho</dt>\n",
       "\t\t<dd>3</dd>\n",
       "\t<dt>Illinois</dt>\n",
       "\t\t<dd>1</dd>\n",
       "\t<dt>Indiana</dt>\n",
       "\t\t<dd>3</dd>\n",
       "\t<dt>Iowa</dt>\n",
       "\t\t<dd>3</dd>\n",
       "\t<dt>Kansas</dt>\n",
       "\t\t<dd>3</dd>\n",
       "\t<dt>Kentucky</dt>\n",
       "\t\t<dd>3</dd>\n",
       "\t<dt>Louisiana</dt>\n",
       "\t\t<dd>1</dd>\n",
       "\t<dt>Maine</dt>\n",
       "\t\t<dd>3</dd>\n",
       "\t<dt>Maryland</dt>\n",
       "\t\t<dd>1</dd>\n",
       "\t<dt>Massachusetts</dt>\n",
       "\t\t<dd>2</dd>\n",
       "\t<dt>Michigan</dt>\n",
       "\t\t<dd>1</dd>\n",
       "\t<dt>Minnesota</dt>\n",
       "\t\t<dd>3</dd>\n",
       "\t<dt>Mississippi</dt>\n",
       "\t\t<dd>1</dd>\n",
       "\t<dt>Missouri</dt>\n",
       "\t\t<dd>2</dd>\n",
       "\t<dt>Montana</dt>\n",
       "\t\t<dd>3</dd>\n",
       "\t<dt>Nebraska</dt>\n",
       "\t\t<dd>3</dd>\n",
       "\t<dt>Nevada</dt>\n",
       "\t\t<dd>1</dd>\n",
       "\t<dt>New Hampshire</dt>\n",
       "\t\t<dd>3</dd>\n",
       "\t<dt>New Jersey</dt>\n",
       "\t\t<dd>2</dd>\n",
       "\t<dt>New Mexico</dt>\n",
       "\t\t<dd>1</dd>\n",
       "\t<dt>New York</dt>\n",
       "\t\t<dd>1</dd>\n",
       "\t<dt>North Carolina</dt>\n",
       "\t\t<dd>1</dd>\n",
       "\t<dt>North Dakota</dt>\n",
       "\t\t<dd>3</dd>\n",
       "\t<dt>Ohio</dt>\n",
       "\t\t<dd>3</dd>\n",
       "\t<dt>Oklahoma</dt>\n",
       "\t\t<dd>2</dd>\n",
       "\t<dt>Oregon</dt>\n",
       "\t\t<dd>2</dd>\n",
       "\t<dt>Pennsylvania</dt>\n",
       "\t\t<dd>3</dd>\n",
       "\t<dt>Rhode Island</dt>\n",
       "\t\t<dd>2</dd>\n",
       "\t<dt>South Carolina</dt>\n",
       "\t\t<dd>1</dd>\n",
       "\t<dt>South Dakota</dt>\n",
       "\t\t<dd>3</dd>\n",
       "\t<dt>Tennessee</dt>\n",
       "\t\t<dd>2</dd>\n",
       "\t<dt>Texas</dt>\n",
       "\t\t<dd>2</dd>\n",
       "\t<dt>Utah</dt>\n",
       "\t\t<dd>3</dd>\n",
       "\t<dt>Vermont</dt>\n",
       "\t\t<dd>3</dd>\n",
       "\t<dt>Virginia</dt>\n",
       "\t\t<dd>2</dd>\n",
       "\t<dt>Washington</dt>\n",
       "\t\t<dd>2</dd>\n",
       "\t<dt>West Virginia</dt>\n",
       "\t\t<dd>3</dd>\n",
       "\t<dt>Wisconsin</dt>\n",
       "\t\t<dd>3</dd>\n",
       "\t<dt>Wyoming</dt>\n",
       "\t\t<dd>2</dd>\n",
       "</dl>\n"
      ],
      "text/latex": [
       "\\begin{description*}\n",
       "\\item[Alabama] 1\n",
       "\\item[Alaska] 1\n",
       "\\item[Arizona] 1\n",
       "\\item[Arkansas] 2\n",
       "\\item[California] 1\n",
       "\\item[Colorado] 2\n",
       "\\item[Connecticut] 3\n",
       "\\item[Delaware] 1\n",
       "\\item[Florida] 1\n",
       "\\item[Georgia] 2\n",
       "\\item[Hawaii] 3\n",
       "\\item[Idaho] 3\n",
       "\\item[Illinois] 1\n",
       "\\item[Indiana] 3\n",
       "\\item[Iowa] 3\n",
       "\\item[Kansas] 3\n",
       "\\item[Kentucky] 3\n",
       "\\item[Louisiana] 1\n",
       "\\item[Maine] 3\n",
       "\\item[Maryland] 1\n",
       "\\item[Massachusetts] 2\n",
       "\\item[Michigan] 1\n",
       "\\item[Minnesota] 3\n",
       "\\item[Mississippi] 1\n",
       "\\item[Missouri] 2\n",
       "\\item[Montana] 3\n",
       "\\item[Nebraska] 3\n",
       "\\item[Nevada] 1\n",
       "\\item[New Hampshire] 3\n",
       "\\item[New Jersey] 2\n",
       "\\item[New Mexico] 1\n",
       "\\item[New York] 1\n",
       "\\item[North Carolina] 1\n",
       "\\item[North Dakota] 3\n",
       "\\item[Ohio] 3\n",
       "\\item[Oklahoma] 2\n",
       "\\item[Oregon] 2\n",
       "\\item[Pennsylvania] 3\n",
       "\\item[Rhode Island] 2\n",
       "\\item[South Carolina] 1\n",
       "\\item[South Dakota] 3\n",
       "\\item[Tennessee] 2\n",
       "\\item[Texas] 2\n",
       "\\item[Utah] 3\n",
       "\\item[Vermont] 3\n",
       "\\item[Virginia] 2\n",
       "\\item[Washington] 2\n",
       "\\item[West Virginia] 3\n",
       "\\item[Wisconsin] 3\n",
       "\\item[Wyoming] 2\n",
       "\\end{description*}\n"
      ],
      "text/markdown": [
       "Alabama\n",
       ":   1Alaska\n",
       ":   1Arizona\n",
       ":   1Arkansas\n",
       ":   2California\n",
       ":   1Colorado\n",
       ":   2Connecticut\n",
       ":   3Delaware\n",
       ":   1Florida\n",
       ":   1Georgia\n",
       ":   2Hawaii\n",
       ":   3Idaho\n",
       ":   3Illinois\n",
       ":   1Indiana\n",
       ":   3Iowa\n",
       ":   3Kansas\n",
       ":   3Kentucky\n",
       ":   3Louisiana\n",
       ":   1Maine\n",
       ":   3Maryland\n",
       ":   1Massachusetts\n",
       ":   2Michigan\n",
       ":   1Minnesota\n",
       ":   3Mississippi\n",
       ":   1Missouri\n",
       ":   2Montana\n",
       ":   3Nebraska\n",
       ":   3Nevada\n",
       ":   1New Hampshire\n",
       ":   3New Jersey\n",
       ":   2New Mexico\n",
       ":   1New York\n",
       ":   1North Carolina\n",
       ":   1North Dakota\n",
       ":   3Ohio\n",
       ":   3Oklahoma\n",
       ":   2Oregon\n",
       ":   2Pennsylvania\n",
       ":   3Rhode Island\n",
       ":   2South Carolina\n",
       ":   1South Dakota\n",
       ":   3Tennessee\n",
       ":   2Texas\n",
       ":   2Utah\n",
       ":   3Vermont\n",
       ":   3Virginia\n",
       ":   2Washington\n",
       ":   2West Virginia\n",
       ":   3Wisconsin\n",
       ":   3Wyoming\n",
       ":   2\n",
       "\n"
      ],
      "text/plain": [
       "       Alabama         Alaska        Arizona       Arkansas     California \n",
       "             1              1              1              2              1 \n",
       "      Colorado    Connecticut       Delaware        Florida        Georgia \n",
       "             2              3              1              1              2 \n",
       "        Hawaii          Idaho       Illinois        Indiana           Iowa \n",
       "             3              3              1              3              3 \n",
       "        Kansas       Kentucky      Louisiana          Maine       Maryland \n",
       "             3              3              1              3              1 \n",
       " Massachusetts       Michigan      Minnesota    Mississippi       Missouri \n",
       "             2              1              3              1              2 \n",
       "       Montana       Nebraska         Nevada  New Hampshire     New Jersey \n",
       "             3              3              1              3              2 \n",
       "    New Mexico       New York North Carolina   North Dakota           Ohio \n",
       "             1              1              1              3              3 \n",
       "      Oklahoma         Oregon   Pennsylvania   Rhode Island South Carolina \n",
       "             2              2              3              2              1 \n",
       "  South Dakota      Tennessee          Texas           Utah        Vermont \n",
       "             3              2              2              3              3 \n",
       "      Virginia     Washington  West Virginia      Wisconsin        Wyoming \n",
       "             2              2              3              3              2 "
      ]
     },
     "metadata": {},
     "output_type": "display_data"
    }
   ],
   "source": [
    "cutree(hc.clust, k=3)"
   ]
  },
  {
   "cell_type": "code",
   "execution_count": 20,
   "metadata": {},
   "outputs": [
    {
     "data": {
      "image/png": "[encoded data removed]",
      "text/plain": [
       "Plot with title \"Cluster Dendrogram\""
      ]
     },
     "metadata": {},
     "output_type": "display_data"
    }
   ],
   "source": [
    "hc.clustSc <- hclust(dist(scale(USArrests)), method=\"complete\")\n",
    "plot(hc.clustSc)"
   ]
  },
  {
   "cell_type": "code",
   "execution_count": 21,
   "metadata": {},
   "outputs": [
    {
     "data": {
      "text/html": [
       "<dl class=dl-horizontal>\n",
       "\t<dt>Alabama</dt>\n",
       "\t\t<dd>1</dd>\n",
       "\t<dt>Alaska</dt>\n",
       "\t\t<dd>1</dd>\n",
       "\t<dt>Arizona</dt>\n",
       "\t\t<dd>2</dd>\n",
       "\t<dt>Arkansas</dt>\n",
       "\t\t<dd>3</dd>\n",
       "\t<dt>California</dt>\n",
       "\t\t<dd>2</dd>\n",
       "\t<dt>Colorado</dt>\n",
       "\t\t<dd>2</dd>\n",
       "\t<dt>Connecticut</dt>\n",
       "\t\t<dd>3</dd>\n",
       "\t<dt>Delaware</dt>\n",
       "\t\t<dd>3</dd>\n",
       "\t<dt>Florida</dt>\n",
       "\t\t<dd>2</dd>\n",
       "\t<dt>Georgia</dt>\n",
       "\t\t<dd>1</dd>\n",
       "\t<dt>Hawaii</dt>\n",
       "\t\t<dd>3</dd>\n",
       "\t<dt>Idaho</dt>\n",
       "\t\t<dd>3</dd>\n",
       "\t<dt>Illinois</dt>\n",
       "\t\t<dd>2</dd>\n",
       "\t<dt>Indiana</dt>\n",
       "\t\t<dd>3</dd>\n",
       "\t<dt>Iowa</dt>\n",
       "\t\t<dd>3</dd>\n",
       "\t<dt>Kansas</dt>\n",
       "\t\t<dd>3</dd>\n",
       "\t<dt>Kentucky</dt>\n",
       "\t\t<dd>3</dd>\n",
       "\t<dt>Louisiana</dt>\n",
       "\t\t<dd>1</dd>\n",
       "\t<dt>Maine</dt>\n",
       "\t\t<dd>3</dd>\n",
       "\t<dt>Maryland</dt>\n",
       "\t\t<dd>2</dd>\n",
       "\t<dt>Massachusetts</dt>\n",
       "\t\t<dd>3</dd>\n",
       "\t<dt>Michigan</dt>\n",
       "\t\t<dd>2</dd>\n",
       "\t<dt>Minnesota</dt>\n",
       "\t\t<dd>3</dd>\n",
       "\t<dt>Mississippi</dt>\n",
       "\t\t<dd>1</dd>\n",
       "\t<dt>Missouri</dt>\n",
       "\t\t<dd>3</dd>\n",
       "\t<dt>Montana</dt>\n",
       "\t\t<dd>3</dd>\n",
       "\t<dt>Nebraska</dt>\n",
       "\t\t<dd>3</dd>\n",
       "\t<dt>Nevada</dt>\n",
       "\t\t<dd>2</dd>\n",
       "\t<dt>New Hampshire</dt>\n",
       "\t\t<dd>3</dd>\n",
       "\t<dt>New Jersey</dt>\n",
       "\t\t<dd>3</dd>\n",
       "\t<dt>New Mexico</dt>\n",
       "\t\t<dd>2</dd>\n",
       "\t<dt>New York</dt>\n",
       "\t\t<dd>2</dd>\n",
       "\t<dt>North Carolina</dt>\n",
       "\t\t<dd>1</dd>\n",
       "\t<dt>North Dakota</dt>\n",
       "\t\t<dd>3</dd>\n",
       "\t<dt>Ohio</dt>\n",
       "\t\t<dd>3</dd>\n",
       "\t<dt>Oklahoma</dt>\n",
       "\t\t<dd>3</dd>\n",
       "\t<dt>Oregon</dt>\n",
       "\t\t<dd>3</dd>\n",
       "\t<dt>Pennsylvania</dt>\n",
       "\t\t<dd>3</dd>\n",
       "\t<dt>Rhode Island</dt>\n",
       "\t\t<dd>3</dd>\n",
       "\t<dt>South Carolina</dt>\n",
       "\t\t<dd>1</dd>\n",
       "\t<dt>South Dakota</dt>\n",
       "\t\t<dd>3</dd>\n",
       "\t<dt>Tennessee</dt>\n",
       "\t\t<dd>1</dd>\n",
       "\t<dt>Texas</dt>\n",
       "\t\t<dd>2</dd>\n",
       "\t<dt>Utah</dt>\n",
       "\t\t<dd>3</dd>\n",
       "\t<dt>Vermont</dt>\n",
       "\t\t<dd>3</dd>\n",
       "\t<dt>Virginia</dt>\n",
       "\t\t<dd>3</dd>\n",
       "\t<dt>Washington</dt>\n",
       "\t\t<dd>3</dd>\n",
       "\t<dt>West Virginia</dt>\n",
       "\t\t<dd>3</dd>\n",
       "\t<dt>Wisconsin</dt>\n",
       "\t\t<dd>3</dd>\n",
       "\t<dt>Wyoming</dt>\n",
       "\t\t<dd>3</dd>\n",
       "</dl>\n"
      ],
      "text/latex": [
       "\\begin{description*}\n",
       "\\item[Alabama] 1\n",
       "\\item[Alaska] 1\n",
       "\\item[Arizona] 2\n",
       "\\item[Arkansas] 3\n",
       "\\item[California] 2\n",
       "\\item[Colorado] 2\n",
       "\\item[Connecticut] 3\n",
       "\\item[Delaware] 3\n",
       "\\item[Florida] 2\n",
       "\\item[Georgia] 1\n",
       "\\item[Hawaii] 3\n",
       "\\item[Idaho] 3\n",
       "\\item[Illinois] 2\n",
       "\\item[Indiana] 3\n",
       "\\item[Iowa] 3\n",
       "\\item[Kansas] 3\n",
       "\\item[Kentucky] 3\n",
       "\\item[Louisiana] 1\n",
       "\\item[Maine] 3\n",
       "\\item[Maryland] 2\n",
       "\\item[Massachusetts] 3\n",
       "\\item[Michigan] 2\n",
       "\\item[Minnesota] 3\n",
       "\\item[Mississippi] 1\n",
       "\\item[Missouri] 3\n",
       "\\item[Montana] 3\n",
       "\\item[Nebraska] 3\n",
       "\\item[Nevada] 2\n",
       "\\item[New Hampshire] 3\n",
       "\\item[New Jersey] 3\n",
       "\\item[New Mexico] 2\n",
       "\\item[New York] 2\n",
       "\\item[North Carolina] 1\n",
       "\\item[North Dakota] 3\n",
       "\\item[Ohio] 3\n",
       "\\item[Oklahoma] 3\n",
       "\\item[Oregon] 3\n",
       "\\item[Pennsylvania] 3\n",
       "\\item[Rhode Island] 3\n",
       "\\item[South Carolina] 1\n",
       "\\item[South Dakota] 3\n",
       "\\item[Tennessee] 1\n",
       "\\item[Texas] 2\n",
       "\\item[Utah] 3\n",
       "\\item[Vermont] 3\n",
       "\\item[Virginia] 3\n",
       "\\item[Washington] 3\n",
       "\\item[West Virginia] 3\n",
       "\\item[Wisconsin] 3\n",
       "\\item[Wyoming] 3\n",
       "\\end{description*}\n"
      ],
      "text/markdown": [
       "Alabama\n",
       ":   1Alaska\n",
       ":   1Arizona\n",
       ":   2Arkansas\n",
       ":   3California\n",
       ":   2Colorado\n",
       ":   2Connecticut\n",
       ":   3Delaware\n",
       ":   3Florida\n",
       ":   2Georgia\n",
       ":   1Hawaii\n",
       ":   3Idaho\n",
       ":   3Illinois\n",
       ":   2Indiana\n",
       ":   3Iowa\n",
       ":   3Kansas\n",
       ":   3Kentucky\n",
       ":   3Louisiana\n",
       ":   1Maine\n",
       ":   3Maryland\n",
       ":   2Massachusetts\n",
       ":   3Michigan\n",
       ":   2Minnesota\n",
       ":   3Mississippi\n",
       ":   1Missouri\n",
       ":   3Montana\n",
       ":   3Nebraska\n",
       ":   3Nevada\n",
       ":   2New Hampshire\n",
       ":   3New Jersey\n",
       ":   3New Mexico\n",
       ":   2New York\n",
       ":   2North Carolina\n",
       ":   1North Dakota\n",
       ":   3Ohio\n",
       ":   3Oklahoma\n",
       ":   3Oregon\n",
       ":   3Pennsylvania\n",
       ":   3Rhode Island\n",
       ":   3South Carolina\n",
       ":   1South Dakota\n",
       ":   3Tennessee\n",
       ":   1Texas\n",
       ":   2Utah\n",
       ":   3Vermont\n",
       ":   3Virginia\n",
       ":   3Washington\n",
       ":   3West Virginia\n",
       ":   3Wisconsin\n",
       ":   3Wyoming\n",
       ":   3\n",
       "\n"
      ],
      "text/plain": [
       "       Alabama         Alaska        Arizona       Arkansas     California \n",
       "             1              1              2              3              2 \n",
       "      Colorado    Connecticut       Delaware        Florida        Georgia \n",
       "             2              3              3              2              1 \n",
       "        Hawaii          Idaho       Illinois        Indiana           Iowa \n",
       "             3              3              2              3              3 \n",
       "        Kansas       Kentucky      Louisiana          Maine       Maryland \n",
       "             3              3              1              3              2 \n",
       " Massachusetts       Michigan      Minnesota    Mississippi       Missouri \n",
       "             3              2              3              1              3 \n",
       "       Montana       Nebraska         Nevada  New Hampshire     New Jersey \n",
       "             3              3              2              3              3 \n",
       "    New Mexico       New York North Carolina   North Dakota           Ohio \n",
       "             2              2              1              3              3 \n",
       "      Oklahoma         Oregon   Pennsylvania   Rhode Island South Carolina \n",
       "             3              3              3              3              1 \n",
       "  South Dakota      Tennessee          Texas           Utah        Vermont \n",
       "             3              1              2              3              3 \n",
       "      Virginia     Washington  West Virginia      Wisconsin        Wyoming \n",
       "             3              3              3              3              3 "
      ]
     },
     "metadata": {},
     "output_type": "display_data"
    }
   ],
   "source": [
    "cutree(hc.clustSc, k=3)"
   ]
  },
  {
   "cell_type": "markdown",
   "metadata": {},
   "source": [
    "<h2>Question 10</h2>"
   ]
  },
  {
   "cell_type": "code",
   "execution_count": 69,
   "metadata": {},
   "outputs": [
    {
     "data": {
      "text/html": [
       "<table>\n",
       "<tbody>\n",
       "\t<tr><td> 0.017211171 </td><td>1            </td><td>-0.010013342 </td><td>0.008294249  </td><td>-0.002974489 </td><td> 0.0191471628</td><td>-1.585955e-03</td><td>-0.003970753 </td><td>-0.0084253205</td><td>-0.007338027 </td><td>...          </td><td> 0.010609978 </td><td>-0.0066823943</td><td> 0.003112743 </td><td>-0.0001340717</td><td>-0.016720222 </td><td>-0.0215535285</td><td> 0.008502925 </td><td>-0.0055224433</td><td>-0.009190703 </td><td> 0.0061073653</td></tr>\n",
       "\t<tr><td> 0.015581384 </td><td>1            </td><td>-0.006707390 </td><td>0.009765332  </td><td>-0.010435533 </td><td> 0.0065460395</td><td> 7.828713e-03</td><td>-0.017080396 </td><td> 0.0097696072</td><td>-0.001704965 </td><td>...          </td><td> 0.004087904 </td><td> 0.0077950174</td><td> 0.001437727 </td><td>-0.0196905499</td><td>-0.010147163 </td><td> 0.0118437067</td><td>-0.005451396 </td><td> 0.0036740582</td><td>-0.012003338 </td><td>-0.0047381823</td></tr>\n",
       "\t<tr><td>-0.016819918 </td><td>1            </td><td> 0.022003056 </td><td>0.017270806  </td><td> 0.014563411 </td><td>-0.0101232723</td><td>-2.172331e-02</td><td> 0.011571319 </td><td>-0.0065604772</td><td> 0.011362992 </td><td>...          </td><td>-0.002384662 </td><td>-0.0069700094</td><td>-0.004185575 </td><td>-0.0018582766</td><td>-0.005853419 </td><td> 0.0003047902</td><td> 0.009062631 </td><td>-0.0007394616</td><td> 0.002736274 </td><td> 0.0061715648</td></tr>\n",
       "\t<tr><td> 0.008165156 </td><td>1            </td><td> 0.001569377 </td><td>0.009596257  </td><td>-0.002452492 </td><td> 0.0022996721</td><td>-6.978249e-03</td><td>-0.009576686 </td><td>-0.0008425011</td><td>-0.004200127 </td><td>...          </td><td>-0.022010926 </td><td>-0.0009722732</td><td> 0.009760489 </td><td> 0.0131997733</td><td> 0.007841650 </td><td>-0.0161110074</td><td>-0.007387574 </td><td> 0.0018531672</td><td>-0.004763710 </td><td>-0.0007519937</td></tr>\n",
       "\t<tr><td>-0.002531071 </td><td>1            </td><td>-0.007553628 </td><td>0.004105029  </td><td>-0.012258157 </td><td>-0.0016873067</td><td> 4.507820e-03</td><td> 0.019444875 </td><td> 0.0120421331</td><td>-0.027441066 </td><td>...          </td><td> 0.015436633 </td><td>-0.0184734863</td><td>-0.009514464 </td><td>-0.0175341320</td><td> 0.005823071 </td><td>-0.0072384060</td><td>-0.011977950 </td><td> 0.0069403317</td><td>-0.019442589 </td><td> 0.0201260091</td></tr>\n",
       "\t<tr><td>-0.002656250 </td><td>1            </td><td>-0.003842110 </td><td>0.008738457  </td><td> 0.011374285 </td><td>-0.0005781195</td><td> 9.922958e-05</td><td>-0.014897190 </td><td>-0.0116857350</td><td> 0.007279879 </td><td>...          </td><td>-0.008791575 </td><td>-0.0099553412</td><td> 0.010508274 </td><td>-0.0083959616</td><td>-0.006674242 </td><td>-0.0086428246</td><td> 0.007981472 </td><td> 0.0156961808</td><td>-0.010818243 </td><td> 0.0053415650</td></tr>\n",
       "</tbody>\n",
       "</table>\n"
      ],
      "text/latex": [
       "\\begin{tabular}{llllllllllllllllllllllllllllllllllllllllllllllllll}\n",
       "\t  0.017211171  & 1             & -0.010013342  & 0.008294249   & -0.002974489  &  0.0191471628 & -1.585955e-03 & -0.003970753  & -0.0084253205 & -0.007338027  & ...           &  0.010609978  & -0.0066823943 &  0.003112743  & -0.0001340717 & -0.016720222  & -0.0215535285 &  0.008502925  & -0.0055224433 & -0.009190703  &  0.0061073653\\\\\n",
       "\t  0.015581384  & 1             & -0.006707390  & 0.009765332   & -0.010435533  &  0.0065460395 &  7.828713e-03 & -0.017080396  &  0.0097696072 & -0.001704965  & ...           &  0.004087904  &  0.0077950174 &  0.001437727  & -0.0196905499 & -0.010147163  &  0.0118437067 & -0.005451396  &  0.0036740582 & -0.012003338  & -0.0047381823\\\\\n",
       "\t -0.016819918  & 1             &  0.022003056  & 0.017270806   &  0.014563411  & -0.0101232723 & -2.172331e-02 &  0.011571319  & -0.0065604772 &  0.011362992  & ...           & -0.002384662  & -0.0069700094 & -0.004185575  & -0.0018582766 & -0.005853419  &  0.0003047902 &  0.009062631  & -0.0007394616 &  0.002736274  &  0.0061715648\\\\\n",
       "\t  0.008165156  & 1             &  0.001569377  & 0.009596257   & -0.002452492  &  0.0022996721 & -6.978249e-03 & -0.009576686  & -0.0008425011 & -0.004200127  & ...           & -0.022010926  & -0.0009722732 &  0.009760489  &  0.0131997733 &  0.007841650  & -0.0161110074 & -0.007387574  &  0.0018531672 & -0.004763710  & -0.0007519937\\\\\n",
       "\t -0.002531071  & 1             & -0.007553628  & 0.004105029   & -0.012258157  & -0.0016873067 &  4.507820e-03 &  0.019444875  &  0.0120421331 & -0.027441066  & ...           &  0.015436633  & -0.0184734863 & -0.009514464  & -0.0175341320 &  0.005823071  & -0.0072384060 & -0.011977950  &  0.0069403317 & -0.019442589  &  0.0201260091\\\\\n",
       "\t -0.002656250  & 1             & -0.003842110  & 0.008738457   &  0.011374285  & -0.0005781195 &  9.922958e-05 & -0.014897190  & -0.0116857350 &  0.007279879  & ...           & -0.008791575  & -0.0099553412 &  0.010508274  & -0.0083959616 & -0.006674242  & -0.0086428246 &  0.007981472  &  0.0156961808 & -0.010818243  &  0.0053415650\\\\\n",
       "\\end{tabular}\n"
      ],
      "text/markdown": [
       "\n",
       "|  0.017211171  | 1             | -0.010013342  | 0.008294249   | -0.002974489  |  0.0191471628 | -1.585955e-03 | -0.003970753  | -0.0084253205 | -0.007338027  | ...           |  0.010609978  | -0.0066823943 |  0.003112743  | -0.0001340717 | -0.016720222  | -0.0215535285 |  0.008502925  | -0.0055224433 | -0.009190703  |  0.0061073653 | \n",
       "|  0.015581384  | 1             | -0.006707390  | 0.009765332   | -0.010435533  |  0.0065460395 |  7.828713e-03 | -0.017080396  |  0.0097696072 | -0.001704965  | ...           |  0.004087904  |  0.0077950174 |  0.001437727  | -0.0196905499 | -0.010147163  |  0.0118437067 | -0.005451396  |  0.0036740582 | -0.012003338  | -0.0047381823 | \n",
       "| -0.016819918  | 1             |  0.022003056  | 0.017270806   |  0.014563411  | -0.0101232723 | -2.172331e-02 |  0.011571319  | -0.0065604772 |  0.011362992  | ...           | -0.002384662  | -0.0069700094 | -0.004185575  | -0.0018582766 | -0.005853419  |  0.0003047902 |  0.009062631  | -0.0007394616 |  0.002736274  |  0.0061715648 | \n",
       "|  0.008165156  | 1             |  0.001569377  | 0.009596257   | -0.002452492  |  0.0022996721 | -6.978249e-03 | -0.009576686  | -0.0008425011 | -0.004200127  | ...           | -0.022010926  | -0.0009722732 |  0.009760489  |  0.0131997733 |  0.007841650  | -0.0161110074 | -0.007387574  |  0.0018531672 | -0.004763710  | -0.0007519937 | \n",
       "| -0.002531071  | 1             | -0.007553628  | 0.004105029   | -0.012258157  | -0.0016873067 |  4.507820e-03 |  0.019444875  |  0.0120421331 | -0.027441066  | ...           |  0.015436633  | -0.0184734863 | -0.009514464  | -0.0175341320 |  0.005823071  | -0.0072384060 | -0.011977950  |  0.0069403317 | -0.019442589  |  0.0201260091 | \n",
       "| -0.002656250  | 1             | -0.003842110  | 0.008738457   |  0.011374285  | -0.0005781195 |  9.922958e-05 | -0.014897190  | -0.0116857350 |  0.007279879  | ...           | -0.008791575  | -0.0099553412 |  0.010508274  | -0.0083959616 | -0.006674242  | -0.0086428246 |  0.007981472  |  0.0156961808 | -0.010818243  |  0.0053415650 | \n",
       "\n",
       "\n"
      ],
      "text/plain": [
       "     [,1]         [,2] [,3]         [,4]        [,5]         [,6]         \n",
       "[1,]  0.017211171 1    -0.010013342 0.008294249 -0.002974489  0.0191471628\n",
       "[2,]  0.015581384 1    -0.006707390 0.009765332 -0.010435533  0.0065460395\n",
       "[3,] -0.016819918 1     0.022003056 0.017270806  0.014563411 -0.0101232723\n",
       "[4,]  0.008165156 1     0.001569377 0.009596257 -0.002452492  0.0022996721\n",
       "[5,] -0.002531071 1    -0.007553628 0.004105029 -0.012258157 -0.0016873067\n",
       "[6,] -0.002656250 1    -0.003842110 0.008738457  0.011374285 -0.0005781195\n",
       "     [,7]          [,8]         [,9]          [,10]        [,11] [,12]       \n",
       "[1,] -1.585955e-03 -0.003970753 -0.0084253205 -0.007338027 ...    0.010609978\n",
       "[2,]  7.828713e-03 -0.017080396  0.0097696072 -0.001704965 ...    0.004087904\n",
       "[3,] -2.172331e-02  0.011571319 -0.0065604772  0.011362992 ...   -0.002384662\n",
       "[4,] -6.978249e-03 -0.009576686 -0.0008425011 -0.004200127 ...   -0.022010926\n",
       "[5,]  4.507820e-03  0.019444875  0.0120421331 -0.027441066 ...    0.015436633\n",
       "[6,]  9.922958e-05 -0.014897190 -0.0116857350  0.007279879 ...   -0.008791575\n",
       "     [,13]         [,14]        [,15]         [,16]        [,17]        \n",
       "[1,] -0.0066823943  0.003112743 -0.0001340717 -0.016720222 -0.0215535285\n",
       "[2,]  0.0077950174  0.001437727 -0.0196905499 -0.010147163  0.0118437067\n",
       "[3,] -0.0069700094 -0.004185575 -0.0018582766 -0.005853419  0.0003047902\n",
       "[4,] -0.0009722732  0.009760489  0.0131997733  0.007841650 -0.0161110074\n",
       "[5,] -0.0184734863 -0.009514464 -0.0175341320  0.005823071 -0.0072384060\n",
       "[6,] -0.0099553412  0.010508274 -0.0083959616 -0.006674242 -0.0086428246\n",
       "     [,18]        [,19]         [,20]        [,21]        \n",
       "[1,]  0.008502925 -0.0055224433 -0.009190703  0.0061073653\n",
       "[2,] -0.005451396  0.0036740582 -0.012003338 -0.0047381823\n",
       "[3,]  0.009062631 -0.0007394616  0.002736274  0.0061715648\n",
       "[4,] -0.007387574  0.0018531672 -0.004763710 -0.0007519937\n",
       "[5,] -0.011977950  0.0069403317 -0.019442589  0.0201260091\n",
       "[6,]  0.007981472  0.0156961808 -0.010818243  0.0053415650"
      ]
     },
     "metadata": {},
     "output_type": "display_data"
    },
    {
     "data": {
      "text/html": [
       "<ol class=list-inline>\n",
       "\t<li>1</li>\n",
       "\t<li>1</li>\n",
       "\t<li>1</li>\n",
       "\t<li>1</li>\n",
       "\t<li>1</li>\n",
       "\t<li>1</li>\n",
       "\t<li>1</li>\n",
       "\t<li>1</li>\n",
       "\t<li>1</li>\n",
       "\t<li>1</li>\n",
       "\t<li>1</li>\n",
       "\t<li>1</li>\n",
       "\t<li>1</li>\n",
       "\t<li>1</li>\n",
       "\t<li>1</li>\n",
       "\t<li>1</li>\n",
       "\t<li>1</li>\n",
       "\t<li>1</li>\n",
       "\t<li>1</li>\n",
       "\t<li>1</li>\n",
       "\t<li>2</li>\n",
       "\t<li>2</li>\n",
       "\t<li>2</li>\n",
       "\t<li>2</li>\n",
       "\t<li>2</li>\n",
       "\t<li>2</li>\n",
       "\t<li>2</li>\n",
       "\t<li>2</li>\n",
       "\t<li>2</li>\n",
       "\t<li>2</li>\n",
       "\t<li>2</li>\n",
       "\t<li>2</li>\n",
       "\t<li>2</li>\n",
       "\t<li>2</li>\n",
       "\t<li>2</li>\n",
       "\t<li>2</li>\n",
       "\t<li>2</li>\n",
       "\t<li>2</li>\n",
       "\t<li>2</li>\n",
       "\t<li>2</li>\n",
       "\t<li>3</li>\n",
       "\t<li>3</li>\n",
       "\t<li>3</li>\n",
       "\t<li>3</li>\n",
       "\t<li>3</li>\n",
       "\t<li>3</li>\n",
       "\t<li>3</li>\n",
       "\t<li>3</li>\n",
       "\t<li>3</li>\n",
       "\t<li>3</li>\n",
       "\t<li>3</li>\n",
       "\t<li>3</li>\n",
       "\t<li>3</li>\n",
       "\t<li>3</li>\n",
       "\t<li>3</li>\n",
       "\t<li>3</li>\n",
       "\t<li>3</li>\n",
       "\t<li>3</li>\n",
       "\t<li>3</li>\n",
       "\t<li>3</li>\n",
       "</ol>\n"
      ],
      "text/latex": [
       "\\begin{enumerate*}\n",
       "\\item 1\n",
       "\\item 1\n",
       "\\item 1\n",
       "\\item 1\n",
       "\\item 1\n",
       "\\item 1\n",
       "\\item 1\n",
       "\\item 1\n",
       "\\item 1\n",
       "\\item 1\n",
       "\\item 1\n",
       "\\item 1\n",
       "\\item 1\n",
       "\\item 1\n",
       "\\item 1\n",
       "\\item 1\n",
       "\\item 1\n",
       "\\item 1\n",
       "\\item 1\n",
       "\\item 1\n",
       "\\item 2\n",
       "\\item 2\n",
       "\\item 2\n",
       "\\item 2\n",
       "\\item 2\n",
       "\\item 2\n",
       "\\item 2\n",
       "\\item 2\n",
       "\\item 2\n",
       "\\item 2\n",
       "\\item 2\n",
       "\\item 2\n",
       "\\item 2\n",
       "\\item 2\n",
       "\\item 2\n",
       "\\item 2\n",
       "\\item 2\n",
       "\\item 2\n",
       "\\item 2\n",
       "\\item 2\n",
       "\\item 3\n",
       "\\item 3\n",
       "\\item 3\n",
       "\\item 3\n",
       "\\item 3\n",
       "\\item 3\n",
       "\\item 3\n",
       "\\item 3\n",
       "\\item 3\n",
       "\\item 3\n",
       "\\item 3\n",
       "\\item 3\n",
       "\\item 3\n",
       "\\item 3\n",
       "\\item 3\n",
       "\\item 3\n",
       "\\item 3\n",
       "\\item 3\n",
       "\\item 3\n",
       "\\item 3\n",
       "\\end{enumerate*}\n"
      ],
      "text/markdown": [
       "1. 1\n",
       "2. 1\n",
       "3. 1\n",
       "4. 1\n",
       "5. 1\n",
       "6. 1\n",
       "7. 1\n",
       "8. 1\n",
       "9. 1\n",
       "10. 1\n",
       "11. 1\n",
       "12. 1\n",
       "13. 1\n",
       "14. 1\n",
       "15. 1\n",
       "16. 1\n",
       "17. 1\n",
       "18. 1\n",
       "19. 1\n",
       "20. 1\n",
       "21. 2\n",
       "22. 2\n",
       "23. 2\n",
       "24. 2\n",
       "25. 2\n",
       "26. 2\n",
       "27. 2\n",
       "28. 2\n",
       "29. 2\n",
       "30. 2\n",
       "31. 2\n",
       "32. 2\n",
       "33. 2\n",
       "34. 2\n",
       "35. 2\n",
       "36. 2\n",
       "37. 2\n",
       "38. 2\n",
       "39. 2\n",
       "40. 2\n",
       "41. 3\n",
       "42. 3\n",
       "43. 3\n",
       "44. 3\n",
       "45. 3\n",
       "46. 3\n",
       "47. 3\n",
       "48. 3\n",
       "49. 3\n",
       "50. 3\n",
       "51. 3\n",
       "52. 3\n",
       "53. 3\n",
       "54. 3\n",
       "55. 3\n",
       "56. 3\n",
       "57. 3\n",
       "58. 3\n",
       "59. 3\n",
       "60. 3\n",
       "\n",
       "\n"
      ],
      "text/plain": [
       " [1] 1 1 1 1 1 1 1 1 1 1 1 1 1 1 1 1 1 1 1 1 2 2 2 2 2 2 2 2 2 2 2 2 2 2 2 2 2 2\n",
       "[39] 2 2 3 3 3 3 3 3 3 3 3 3 3 3 3 3 3 3 3 3 3 3"
      ]
     },
     "metadata": {},
     "output_type": "display_data"
    }
   ],
   "source": [
    "x = matrix(rnorm(20*3*50, mean=0, sd=0.01), ncol=50)\n",
    "x[1:20, 2] = 1\n",
    "x[21:40, 1] = 2\n",
    "x[21:40, 2] = 2\n",
    "x[41:60, 1] = 1\n",
    "head(x)\n",
    "labs <- c(rep(1,20), rep(2,20), rep(3,20))\n",
    "labs"
   ]
  },
  {
   "cell_type": "code",
   "execution_count": 70,
   "metadata": {},
   "outputs": [],
   "source": [
    "pr.out <- prcomp(x)"
   ]
  },
  {
   "cell_type": "code",
   "execution_count": 71,
   "metadata": {},
   "outputs": [
    {
     "data": {
      "text/html": [
       "<table>\n",
       "<thead><tr><th scope=col>PC1</th><th scope=col>PC2</th></tr></thead>\n",
       "<tbody>\n",
       "\t<tr><td>-0.6952273   </td><td>-6.949470e-01</td></tr>\n",
       "\t<tr><td>-0.6962297   </td><td>-6.961741e-01</td></tr>\n",
       "\t<tr><td>-0.7191409   </td><td>-7.188968e-01</td></tr>\n",
       "\t<tr><td>-0.7015764   </td><td>-7.016267e-01</td></tr>\n",
       "\t<tr><td>-0.7090533   </td><td>-7.089013e-01</td></tr>\n",
       "\t<tr><td>-0.7090723   </td><td>-7.088801e-01</td></tr>\n",
       "\t<tr><td>-0.7122536   </td><td>-7.119913e-01</td></tr>\n",
       "\t<tr><td>-0.6939817   </td><td>-6.938497e-01</td></tr>\n",
       "\t<tr><td>-0.7069762   </td><td>-7.067535e-01</td></tr>\n",
       "\t<tr><td>-0.7078277   </td><td>-7.075846e-01</td></tr>\n",
       "\t<tr><td>-0.6996892   </td><td>-6.990519e-01</td></tr>\n",
       "\t<tr><td>-0.7116877   </td><td>-7.112942e-01</td></tr>\n",
       "\t<tr><td>-0.7107366   </td><td>-7.107576e-01</td></tr>\n",
       "\t<tr><td>-0.7125636   </td><td>-7.122411e-01</td></tr>\n",
       "\t<tr><td>-0.7091633   </td><td>-7.086069e-01</td></tr>\n",
       "\t<tr><td>-0.7061929   </td><td>-7.060375e-01</td></tr>\n",
       "\t<tr><td>-0.7148763   </td><td>-7.147832e-01</td></tr>\n",
       "\t<tr><td>-0.7116852   </td><td>-7.112040e-01</td></tr>\n",
       "\t<tr><td>-0.7036146   </td><td>-7.030682e-01</td></tr>\n",
       "\t<tr><td>-0.7164616   </td><td>-7.160957e-01</td></tr>\n",
       "\t<tr><td> 1.4142985   </td><td>-1.617767e-05</td></tr>\n",
       "\t<tr><td> 1.4142666   </td><td>-2.222410e-04</td></tr>\n",
       "\t<tr><td> 1.4143133   </td><td>-1.315720e-04</td></tr>\n",
       "\t<tr><td> 1.4141398   </td><td>-4.574134e-04</td></tr>\n",
       "\t<tr><td> 1.4141150   </td><td>-1.678195e-04</td></tr>\n",
       "\t<tr><td> 1.4141826   </td><td>-2.355782e-04</td></tr>\n",
       "\t<tr><td> 1.4142569   </td><td>-2.212214e-04</td></tr>\n",
       "\t<tr><td> 1.4142564   </td><td>-3.802563e-04</td></tr>\n",
       "\t<tr><td> 1.4143237   </td><td>-2.965884e-04</td></tr>\n",
       "\t<tr><td> 1.4144663   </td><td>-3.986869e-05</td></tr>\n",
       "\t<tr><td> 1.4143397   </td><td>-1.939743e-04</td></tr>\n",
       "\t<tr><td> 1.4143201   </td><td>-1.038744e-04</td></tr>\n",
       "\t<tr><td> 1.4141996   </td><td>-2.829620e-04</td></tr>\n",
       "\t<tr><td> 1.4143967   </td><td>-1.380287e-04</td></tr>\n",
       "\t<tr><td> 1.4144805   </td><td>-2.968259e-05</td></tr>\n",
       "\t<tr><td> 1.4141299   </td><td> 1.420680e-04</td></tr>\n",
       "\t<tr><td> 1.4143261   </td><td>-2.672132e-04</td></tr>\n",
       "\t<tr><td> 1.4143199   </td><td>-1.919521e-04</td></tr>\n",
       "\t<tr><td> 1.4143130   </td><td> 9.213782e-06</td></tr>\n",
       "\t<tr><td> 1.4142041   </td><td>-2.305125e-04</td></tr>\n",
       "\t<tr><td>-0.7038090   </td><td> 7.045251e-01</td></tr>\n",
       "\t<tr><td>-0.6993775   </td><td> 6.995404e-01</td></tr>\n",
       "\t<tr><td>-0.6941141   </td><td> 6.944890e-01</td></tr>\n",
       "\t<tr><td>-0.7188817   </td><td> 7.193831e-01</td></tr>\n",
       "\t<tr><td>-0.6982147   </td><td> 6.987669e-01</td></tr>\n",
       "\t<tr><td>-0.7140605   </td><td> 7.143949e-01</td></tr>\n",
       "\t<tr><td>-0.7166909   </td><td> 7.170660e-01</td></tr>\n",
       "\t<tr><td>-0.7089333   </td><td> 7.098748e-01</td></tr>\n",
       "\t<tr><td>-0.7101455   </td><td> 7.106633e-01</td></tr>\n",
       "\t<tr><td>-0.7141083   </td><td> 7.145508e-01</td></tr>\n",
       "\t<tr><td>-0.7042977   </td><td> 7.045855e-01</td></tr>\n",
       "\t<tr><td>-0.7141901   </td><td> 7.148584e-01</td></tr>\n",
       "\t<tr><td>-0.6980811   </td><td> 6.985127e-01</td></tr>\n",
       "\t<tr><td>-0.7055882   </td><td> 7.059374e-01</td></tr>\n",
       "\t<tr><td>-0.7006586   </td><td> 7.011203e-01</td></tr>\n",
       "\t<tr><td>-0.7120933   </td><td> 7.126202e-01</td></tr>\n",
       "\t<tr><td>-0.7093288   </td><td> 7.095957e-01</td></tr>\n",
       "\t<tr><td>-0.7037832   </td><td> 7.040466e-01</td></tr>\n",
       "\t<tr><td>-0.7108930   </td><td> 7.110796e-01</td></tr>\n",
       "\t<tr><td>-0.7003892   </td><td> 7.005906e-01</td></tr>\n",
       "</tbody>\n",
       "</table>\n"
      ],
      "text/latex": [
       "\\begin{tabular}{ll}\n",
       " PC1 & PC2\\\\\n",
       "\\hline\n",
       "\t -0.6952273    & -6.949470e-01\\\\\n",
       "\t -0.6962297    & -6.961741e-01\\\\\n",
       "\t -0.7191409    & -7.188968e-01\\\\\n",
       "\t -0.7015764    & -7.016267e-01\\\\\n",
       "\t -0.7090533    & -7.089013e-01\\\\\n",
       "\t -0.7090723    & -7.088801e-01\\\\\n",
       "\t -0.7122536    & -7.119913e-01\\\\\n",
       "\t -0.6939817    & -6.938497e-01\\\\\n",
       "\t -0.7069762    & -7.067535e-01\\\\\n",
       "\t -0.7078277    & -7.075846e-01\\\\\n",
       "\t -0.6996892    & -6.990519e-01\\\\\n",
       "\t -0.7116877    & -7.112942e-01\\\\\n",
       "\t -0.7107366    & -7.107576e-01\\\\\n",
       "\t -0.7125636    & -7.122411e-01\\\\\n",
       "\t -0.7091633    & -7.086069e-01\\\\\n",
       "\t -0.7061929    & -7.060375e-01\\\\\n",
       "\t -0.7148763    & -7.147832e-01\\\\\n",
       "\t -0.7116852    & -7.112040e-01\\\\\n",
       "\t -0.7036146    & -7.030682e-01\\\\\n",
       "\t -0.7164616    & -7.160957e-01\\\\\n",
       "\t  1.4142985    & -1.617767e-05\\\\\n",
       "\t  1.4142666    & -2.222410e-04\\\\\n",
       "\t  1.4143133    & -1.315720e-04\\\\\n",
       "\t  1.4141398    & -4.574134e-04\\\\\n",
       "\t  1.4141150    & -1.678195e-04\\\\\n",
       "\t  1.4141826    & -2.355782e-04\\\\\n",
       "\t  1.4142569    & -2.212214e-04\\\\\n",
       "\t  1.4142564    & -3.802563e-04\\\\\n",
       "\t  1.4143237    & -2.965884e-04\\\\\n",
       "\t  1.4144663    & -3.986869e-05\\\\\n",
       "\t  1.4143397    & -1.939743e-04\\\\\n",
       "\t  1.4143201    & -1.038744e-04\\\\\n",
       "\t  1.4141996    & -2.829620e-04\\\\\n",
       "\t  1.4143967    & -1.380287e-04\\\\\n",
       "\t  1.4144805    & -2.968259e-05\\\\\n",
       "\t  1.4141299    &  1.420680e-04\\\\\n",
       "\t  1.4143261    & -2.672132e-04\\\\\n",
       "\t  1.4143199    & -1.919521e-04\\\\\n",
       "\t  1.4143130    &  9.213782e-06\\\\\n",
       "\t  1.4142041    & -2.305125e-04\\\\\n",
       "\t -0.7038090    &  7.045251e-01\\\\\n",
       "\t -0.6993775    &  6.995404e-01\\\\\n",
       "\t -0.6941141    &  6.944890e-01\\\\\n",
       "\t -0.7188817    &  7.193831e-01\\\\\n",
       "\t -0.6982147    &  6.987669e-01\\\\\n",
       "\t -0.7140605    &  7.143949e-01\\\\\n",
       "\t -0.7166909    &  7.170660e-01\\\\\n",
       "\t -0.7089333    &  7.098748e-01\\\\\n",
       "\t -0.7101455    &  7.106633e-01\\\\\n",
       "\t -0.7141083    &  7.145508e-01\\\\\n",
       "\t -0.7042977    &  7.045855e-01\\\\\n",
       "\t -0.7141901    &  7.148584e-01\\\\\n",
       "\t -0.6980811    &  6.985127e-01\\\\\n",
       "\t -0.7055882    &  7.059374e-01\\\\\n",
       "\t -0.7006586    &  7.011203e-01\\\\\n",
       "\t -0.7120933    &  7.126202e-01\\\\\n",
       "\t -0.7093288    &  7.095957e-01\\\\\n",
       "\t -0.7037832    &  7.040466e-01\\\\\n",
       "\t -0.7108930    &  7.110796e-01\\\\\n",
       "\t -0.7003892    &  7.005906e-01\\\\\n",
       "\\end{tabular}\n"
      ],
      "text/markdown": [
       "\n",
       "PC1 | PC2 | \n",
       "|---|---|---|---|---|---|---|---|---|---|---|---|---|---|---|---|---|---|---|---|---|---|---|---|---|---|---|---|---|---|---|---|---|---|---|---|---|---|---|---|---|---|---|---|---|---|---|---|---|---|---|---|---|---|---|---|---|---|---|---|\n",
       "| -0.6952273    | -6.949470e-01 | \n",
       "| -0.6962297    | -6.961741e-01 | \n",
       "| -0.7191409    | -7.188968e-01 | \n",
       "| -0.7015764    | -7.016267e-01 | \n",
       "| -0.7090533    | -7.089013e-01 | \n",
       "| -0.7090723    | -7.088801e-01 | \n",
       "| -0.7122536    | -7.119913e-01 | \n",
       "| -0.6939817    | -6.938497e-01 | \n",
       "| -0.7069762    | -7.067535e-01 | \n",
       "| -0.7078277    | -7.075846e-01 | \n",
       "| -0.6996892    | -6.990519e-01 | \n",
       "| -0.7116877    | -7.112942e-01 | \n",
       "| -0.7107366    | -7.107576e-01 | \n",
       "| -0.7125636    | -7.122411e-01 | \n",
       "| -0.7091633    | -7.086069e-01 | \n",
       "| -0.7061929    | -7.060375e-01 | \n",
       "| -0.7148763    | -7.147832e-01 | \n",
       "| -0.7116852    | -7.112040e-01 | \n",
       "| -0.7036146    | -7.030682e-01 | \n",
       "| -0.7164616    | -7.160957e-01 | \n",
       "|  1.4142985    | -1.617767e-05 | \n",
       "|  1.4142666    | -2.222410e-04 | \n",
       "|  1.4143133    | -1.315720e-04 | \n",
       "|  1.4141398    | -4.574134e-04 | \n",
       "|  1.4141150    | -1.678195e-04 | \n",
       "|  1.4141826    | -2.355782e-04 | \n",
       "|  1.4142569    | -2.212214e-04 | \n",
       "|  1.4142564    | -3.802563e-04 | \n",
       "|  1.4143237    | -2.965884e-04 | \n",
       "|  1.4144663    | -3.986869e-05 | \n",
       "|  1.4143397    | -1.939743e-04 | \n",
       "|  1.4143201    | -1.038744e-04 | \n",
       "|  1.4141996    | -2.829620e-04 | \n",
       "|  1.4143967    | -1.380287e-04 | \n",
       "|  1.4144805    | -2.968259e-05 | \n",
       "|  1.4141299    |  1.420680e-04 | \n",
       "|  1.4143261    | -2.672132e-04 | \n",
       "|  1.4143199    | -1.919521e-04 | \n",
       "|  1.4143130    |  9.213782e-06 | \n",
       "|  1.4142041    | -2.305125e-04 | \n",
       "| -0.7038090    |  7.045251e-01 | \n",
       "| -0.6993775    |  6.995404e-01 | \n",
       "| -0.6941141    |  6.944890e-01 | \n",
       "| -0.7188817    |  7.193831e-01 | \n",
       "| -0.6982147    |  6.987669e-01 | \n",
       "| -0.7140605    |  7.143949e-01 | \n",
       "| -0.7166909    |  7.170660e-01 | \n",
       "| -0.7089333    |  7.098748e-01 | \n",
       "| -0.7101455    |  7.106633e-01 | \n",
       "| -0.7141083    |  7.145508e-01 | \n",
       "| -0.7042977    |  7.045855e-01 | \n",
       "| -0.7141901    |  7.148584e-01 | \n",
       "| -0.6980811    |  6.985127e-01 | \n",
       "| -0.7055882    |  7.059374e-01 | \n",
       "| -0.7006586    |  7.011203e-01 | \n",
       "| -0.7120933    |  7.126202e-01 | \n",
       "| -0.7093288    |  7.095957e-01 | \n",
       "| -0.7037832    |  7.040466e-01 | \n",
       "| -0.7108930    |  7.110796e-01 | \n",
       "| -0.7003892    |  7.005906e-01 | \n",
       "\n",
       "\n"
      ],
      "text/plain": [
       "      PC1        PC2          \n",
       " [1,] -0.6952273 -6.949470e-01\n",
       " [2,] -0.6962297 -6.961741e-01\n",
       " [3,] -0.7191409 -7.188968e-01\n",
       " [4,] -0.7015764 -7.016267e-01\n",
       " [5,] -0.7090533 -7.089013e-01\n",
       " [6,] -0.7090723 -7.088801e-01\n",
       " [7,] -0.7122536 -7.119913e-01\n",
       " [8,] -0.6939817 -6.938497e-01\n",
       " [9,] -0.7069762 -7.067535e-01\n",
       "[10,] -0.7078277 -7.075846e-01\n",
       "[11,] -0.6996892 -6.990519e-01\n",
       "[12,] -0.7116877 -7.112942e-01\n",
       "[13,] -0.7107366 -7.107576e-01\n",
       "[14,] -0.7125636 -7.122411e-01\n",
       "[15,] -0.7091633 -7.086069e-01\n",
       "[16,] -0.7061929 -7.060375e-01\n",
       "[17,] -0.7148763 -7.147832e-01\n",
       "[18,] -0.7116852 -7.112040e-01\n",
       "[19,] -0.7036146 -7.030682e-01\n",
       "[20,] -0.7164616 -7.160957e-01\n",
       "[21,]  1.4142985 -1.617767e-05\n",
       "[22,]  1.4142666 -2.222410e-04\n",
       "[23,]  1.4143133 -1.315720e-04\n",
       "[24,]  1.4141398 -4.574134e-04\n",
       "[25,]  1.4141150 -1.678195e-04\n",
       "[26,]  1.4141826 -2.355782e-04\n",
       "[27,]  1.4142569 -2.212214e-04\n",
       "[28,]  1.4142564 -3.802563e-04\n",
       "[29,]  1.4143237 -2.965884e-04\n",
       "[30,]  1.4144663 -3.986869e-05\n",
       "[31,]  1.4143397 -1.939743e-04\n",
       "[32,]  1.4143201 -1.038744e-04\n",
       "[33,]  1.4141996 -2.829620e-04\n",
       "[34,]  1.4143967 -1.380287e-04\n",
       "[35,]  1.4144805 -2.968259e-05\n",
       "[36,]  1.4141299  1.420680e-04\n",
       "[37,]  1.4143261 -2.672132e-04\n",
       "[38,]  1.4143199 -1.919521e-04\n",
       "[39,]  1.4143130  9.213782e-06\n",
       "[40,]  1.4142041 -2.305125e-04\n",
       "[41,] -0.7038090  7.045251e-01\n",
       "[42,] -0.6993775  6.995404e-01\n",
       "[43,] -0.6941141  6.944890e-01\n",
       "[44,] -0.7188817  7.193831e-01\n",
       "[45,] -0.6982147  6.987669e-01\n",
       "[46,] -0.7140605  7.143949e-01\n",
       "[47,] -0.7166909  7.170660e-01\n",
       "[48,] -0.7089333  7.098748e-01\n",
       "[49,] -0.7101455  7.106633e-01\n",
       "[50,] -0.7141083  7.145508e-01\n",
       "[51,] -0.7042977  7.045855e-01\n",
       "[52,] -0.7141901  7.148584e-01\n",
       "[53,] -0.6980811  6.985127e-01\n",
       "[54,] -0.7055882  7.059374e-01\n",
       "[55,] -0.7006586  7.011203e-01\n",
       "[56,] -0.7120933  7.126202e-01\n",
       "[57,] -0.7093288  7.095957e-01\n",
       "[58,] -0.7037832  7.040466e-01\n",
       "[59,] -0.7108930  7.110796e-01\n",
       "[60,] -0.7003892  7.005906e-01"
      ]
     },
     "metadata": {},
     "output_type": "display_data"
    }
   ],
   "source": [
    "pr.out$x[,1:2]"
   ]
  },
  {
   "cell_type": "code",
   "execution_count": 72,
   "metadata": {},
   "outputs": [
    {
     "data": {
      "image/png": "[encoded data removed]",
      "text/plain": [
       "plot without title"
      ]
     },
     "metadata": {},
     "output_type": "display_data"
    }
   ],
   "source": [
    "plot(pr.out$x[,1:2], col=labs, xlab=\"Z1\", ylab=\"Z2\", pch=19) "
   ]
  },
  {
   "cell_type": "code",
   "execution_count": 77,
   "metadata": {},
   "outputs": [
    {
     "data": {
      "text/plain": [
       "   labs\n",
       "     1  2  3\n",
       "  1  0  0 20\n",
       "  2  0 20  0\n",
       "  3 20  0  0"
      ]
     },
     "metadata": {},
     "output_type": "display_data"
    }
   ],
   "source": [
    "km.out <- kmeans(x, 3, nstart=20)\n",
    "table(km.out$cluster, labs)"
   ]
  },
  {
   "cell_type": "code",
   "execution_count": 78,
   "metadata": {},
   "outputs": [
    {
     "data": {
      "text/plain": [
       "K-means clustering with 2 clusters of sizes 20, 40\n",
       "\n",
       "Cluster means:\n",
       "         PC1           PC2\n",
       "1  1.4142824 -1.727827e-04\n",
       "2 -0.7071412  8.639136e-05\n",
       "\n",
       "Clustering vector:\n",
       " [1] 2 2 2 2 2 2 2 2 2 2 2 2 2 2 2 2 2 2 2 2 1 1 1 1 1 1 1 1 1 1 1 1 1 1 1 1 1 1\n",
       "[39] 1 1 2 2 2 2 2 2 2 2 2 2 2 2 2 2 2 2 2 2 2 2\n",
       "\n",
       "Within cluster sum of squares by cluster:\n",
       "[1] 5.70039e-07 2.00104e+01\n",
       " (between_SS / total_SS =  75.0 %)\n",
       "\n",
       "Available components:\n",
       "\n",
       "[1] \"cluster\"      \"centers\"      \"totss\"        \"withinss\"     \"tot.withinss\"\n",
       "[6] \"betweenss\"    \"size\"         \"iter\"         \"ifault\"      "
      ]
     },
     "metadata": {},
     "output_type": "display_data"
    }
   ],
   "source": [
    "kmeans(pr.out$x[,1:2], 2, nstart=20)"
   ]
  },
  {
   "cell_type": "code",
   "execution_count": 79,
   "metadata": {},
   "outputs": [
    {
     "data": {
      "text/plain": [
       "K-means clustering with 4 clusters of sizes 20, 10, 10, 20\n",
       "\n",
       "Cluster means:\n",
       "         PC1           PC2\n",
       "1  1.4142824 -0.0001727827\n",
       "2 -0.7129325  0.7134086638\n",
       "3 -0.7008313  0.7012114436\n",
       "4 -0.7074005 -0.7071372710\n",
       "\n",
       "Clustering vector:\n",
       " [1] 4 4 4 4 4 4 4 4 4 4 4 4 4 4 4 4 4 4 4 4 1 1 1 1 1 1 1 1 1 1 1 1 1 1 1 1 1 1\n",
       "[39] 1 1 3 3 3 2 3 2 2 2 2 2 3 2 3 3 3 2 2 3 2 3\n",
       "\n",
       "Within cluster sum of squares by cluster:\n",
       "[1] 5.700390e-07 1.894267e-04 2.284684e-04 1.886169e-03\n",
       " (between_SS / total_SS = 100.0 %)\n",
       "\n",
       "Available components:\n",
       "\n",
       "[1] \"cluster\"      \"centers\"      \"totss\"        \"withinss\"     \"tot.withinss\"\n",
       "[6] \"betweenss\"    \"size\"         \"iter\"         \"ifault\"      "
      ]
     },
     "metadata": {},
     "output_type": "display_data"
    }
   ],
   "source": [
    "kmeans(pr.out$x[,1:2], 4, nstart=20)"
   ]
  },
  {
   "cell_type": "code",
   "execution_count": 80,
   "metadata": {},
   "outputs": [
    {
     "data": {
      "text/plain": [
       "   labs\n",
       "     1  2  3\n",
       "  1  0  0 20\n",
       "  2 20  0  0\n",
       "  3  0 20  0"
      ]
     },
     "metadata": {},
     "output_type": "display_data"
    }
   ],
   "source": [
    "km.out <- kmeans(pr.out$x[,1:2], 3, nstart=20)\n",
    "table(km.out$cluster, labs)"
   ]
  }
 ],
 "metadata": {
  "kernelspec": {
   "display_name": "R",
   "language": "R",
   "name": "ir"
  },
  "language_info": {
   "codemirror_mode": "r",
   "file_extension": ".r",
   "mimetype": "text/x-r-source",
   "name": "R",
   "pygments_lexer": "r",
   "version": "3.4.3"
  }
 },
 "nbformat": 4,
 "nbformat_minor": 2
}
